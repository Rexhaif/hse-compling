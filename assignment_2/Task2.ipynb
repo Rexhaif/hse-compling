{
 "cells": [
  {
   "cell_type": "markdown",
   "metadata": {},
   "source": [
    "# Задание 2 - колокация/pmi"
   ]
  },
  {
   "cell_type": "code",
   "execution_count": 1,
   "metadata": {},
   "outputs": [
    {
     "name": "stderr",
     "output_type": "stream",
     "text": [
      "[nltk_data] Downloading package stopwords to /root/nltk_data...\n",
      "[nltk_data]   Package stopwords is already up-to-date!\n"
     ]
    }
   ],
   "source": [
    "import itertools\n",
    "import re\n",
    "\n",
    "from string import punctuation\n",
    "\n",
    "import gensim\n",
    "import numpy as np\n",
    "import nltk\n",
    "nltk.download('stopwords')\n",
    "\n",
    "from razdel import sentenize\n",
    "from razdel import tokenize as razdel_tokenize\n",
    "from pymorphy2 import MorphAnalyzer\n",
    "from collections import Counter, defaultdict\n",
    "from tqdm.auto import tqdm\n",
    "from nltk.corpus import stopwords\n",
    "\n",
    "stops = set(stopwords.words('russian') + [\"это\", \"весь\"])\n",
    "morph = MorphAnalyzer()\n",
    "\n",
    "def normalize(text):\n",
    "    tokens = re.findall('[а-яёa-z0-9]+', text.lower())\n",
    "    normalized_text = [morph.parse(word)[0].normal_form for word \\\n",
    "                                                            in tokens]\n",
    "    normalized_text = [word for word in normalized_text if len(word) > 2 and word not in stops]\n",
    "    \n",
    "    return normalized_text\n",
    "\n",
    "def preprocess(text):\n",
    "    sents = list(sentenize(text))\n",
    "    return [normalize(sent.text) for sent in tqdm(sents)]\n",
    "\n",
    "def ngrammer(tokens, stops, n=2):\n",
    "    ngrams = []\n",
    "    tokens = [token for token in tokens if token not in stops]\n",
    "    for i in range(0,len(tokens)-n+1):\n",
    "        ngrams.append(tuple(tokens[i:i+n]))\n",
    "    return ngrams"
   ]
  },
  {
   "cell_type": "code",
   "execution_count": 2,
   "metadata": {
    "scrolled": true
   },
   "outputs": [],
   "source": [
    "corpus = open('data/lenta.txt').read()"
   ]
  },
  {
   "cell_type": "code",
   "execution_count": 3,
   "metadata": {},
   "outputs": [
    {
     "data": {
      "application/vnd.jupyter.widget-view+json": {
       "model_id": "923eddfc86434c0997d669f3a9d32f5d",
       "version_major": 2,
       "version_minor": 0
      },
      "text/plain": [
       "HBox(children=(FloatProgress(value=0.0, max=75659.0), HTML(value='')))"
      ]
     },
     "metadata": {},
     "output_type": "display_data"
    },
    {
     "name": "stdout",
     "output_type": "stream",
     "text": [
      "\n"
     ]
    }
   ],
   "source": [
    "corpus = preprocess(corpus)"
   ]
  },
  {
   "cell_type": "markdown",
   "metadata": {},
   "source": [
    "### PMI\n",
    "Из вики можно высмотреть следующую формулу для Point-wise Mutual information:\n",
    "$$\\operatorname {pmi} (x;y)\\equiv \\log {\\frac {p(x,y)}{p(x)p(y)}}=\\log {\\frac {p(x|y)}{p(x)}}=\\log {\\frac {p(y|x)}{p(y)}}$$\n",
    "Где p(x, y) - вероятность биграммы \"x y\":\n",
    "$$p(x,y) = \\frac{Count(x,y)}{CorpusWordCount}$$\n",
    "И p(x), p(y) -  вероятности униграмм \"x\" и \"y\":\n",
    "$$p(x) = \\frac{Count(x)}{CorpusWordCount}$$\n",
    "$$p(y) = \\frac{Count(y)}{CorpusWordCount}$$\n",
    "Реализуем эту функцию:"
   ]
  },
  {
   "cell_type": "code",
   "execution_count": 4,
   "metadata": {},
   "outputs": [],
   "source": [
    "def pmi(worda_count, wordb_count, bigram_count, len_vocab, min_count, corpus_word_count):\n",
    "    if bigram_count < min_count:\n",
    "        return -np.inf # слишком низкочастотное\n",
    "    \n",
    "    p_a = np.divide(worda_count, corpus_word_count)\n",
    "    p_b = np.divide(wordb_count, corpus_word_count)\n",
    "    p_ab = np.divide(bigram_count, corpus_word_count)\n",
    "    score = np.log(p_ab / (p_a * p_b))\n",
    "    return score"
   ]
  },
  {
   "cell_type": "code",
   "execution_count": 5,
   "metadata": {},
   "outputs": [],
   "source": [
    "def visualize(p):\n",
    "    list_of_tokens = []\n",
    "    for i in tqdm(range(len(corpus))):\n",
    "        list_of_tokens += p[corpus[i]]\n",
    "        \n",
    "    list_of_tokens = list(filter(lambda x: \"_\" in x, list_of_tokens))\n",
    "    return Counter(list_of_tokens)"
   ]
  },
  {
   "cell_type": "markdown",
   "metadata": {},
   "source": [
    "### Пробуем с минимальным threshold"
   ]
  },
  {
   "cell_type": "code",
   "execution_count": 6,
   "metadata": {},
   "outputs": [
    {
     "data": {
      "application/vnd.jupyter.widget-view+json": {
       "model_id": "a1a82da7d86f47a68c010a27e32eed80",
       "version_major": 2,
       "version_minor": 0
      },
      "text/plain": [
       "HBox(children=(FloatProgress(value=0.0, max=75659.0), HTML(value='')))"
      ]
     },
     "metadata": {},
     "output_type": "display_data"
    },
    {
     "name": "stdout",
     "output_type": "stream",
     "text": [
      "\n"
     ]
    },
    {
     "data": {
      "application/vnd.jupyter.widget-view+json": {
       "model_id": "664b87b0c23347b5aeea9e0e78c0a9bc",
       "version_major": 2,
       "version_minor": 0
      },
      "text/plain": [
       "HBox(children=(FloatProgress(value=0.0, max=75659.0), HTML(value='')))"
      ]
     },
     "metadata": {},
     "output_type": "display_data"
    },
    {
     "name": "stdout",
     "output_type": "stream",
     "text": [
      "\n"
     ]
    },
    {
     "data": {
      "text/plain": [
       "[('сообщать_риа', 1158),\n",
       " ('риа_новость', 916),\n",
       " ('настоящий_время', 787),\n",
       " ('владимир_путин', 731),\n",
       " ('миллион_доллар', 496),\n",
       " ('передавать_риа', 491),\n",
       " ('сообщить_риа', 481),\n",
       " ('премьер_министр', 439),\n",
       " ('президент_россия', 416),\n",
       " ('2000_год', 403),\n",
       " ('правоохранительный_орган', 400),\n",
       " ('пресс_служба', 391),\n",
       " ('сообщать_интерфакс', 384),\n",
       " ('новость_ссылка', 361),\n",
       " ('федеральный_сила', 360),\n",
       " ('северный_кавказ', 343),\n",
       " ('санкт_петербург', 326),\n",
       " ('1999_год', 317),\n",
       " ('сообщать_агентство', 315),\n",
       " ('принять_решение', 310)]"
      ]
     },
     "execution_count": 6,
     "metadata": {},
     "output_type": "execute_result"
    }
   ],
   "source": [
    "ph = gensim.models.Phrases(tqdm(corpus), scoring=pmi, threshold=-1.0)\n",
    "p = gensim.models.phrases.Phraser(ph)\n",
    "visualize(p).most_common(20)"
   ]
  },
  {
   "cell_type": "markdown",
   "metadata": {},
   "source": [
    "### Попробуем посмотреть на распределение скора"
   ]
  },
  {
   "cell_type": "code",
   "execution_count": 7,
   "metadata": {},
   "outputs": [],
   "source": [
    "import matplotlib.pylab as plt\n",
    "%matplotlib inline\n",
    "import seaborn as sns"
   ]
  },
  {
   "cell_type": "code",
   "execution_count": 8,
   "metadata": {},
   "outputs": [],
   "source": [
    "phrasegrams = list(p.phrasegrams.items())"
   ]
  },
  {
   "cell_type": "code",
   "execution_count": 9,
   "metadata": {},
   "outputs": [],
   "source": [
    "phrasegrams = list(map(lambda t: (list(map(lambda x: x.decode(), t[0])), t[1]), phrasegrams))"
   ]
  },
  {
   "cell_type": "code",
   "execution_count": 10,
   "metadata": {},
   "outputs": [],
   "source": [
    "scores = list(map(lambda x: x[1], phrasegrams))"
   ]
  },
  {
   "cell_type": "code",
   "execution_count": 11,
   "metadata": {},
   "outputs": [
    {
     "name": "stderr",
     "output_type": "stream",
     "text": [
      "/usr/local/lib/python3.8/dist-packages/seaborn/distributions.py:2551: FutureWarning: `distplot` is a deprecated function and will be removed in a future version. Please adapt your code to use either `displot` (a figure-level function with similar flexibility) or `histplot` (an axes-level function for histograms).\n",
      "  warnings.warn(msg, FutureWarning)\n"
     ]
    },
    {
     "data": {
      "text/plain": [
       "<AxesSubplot:ylabel='Density'>"
      ]
     },
     "execution_count": 11,
     "metadata": {},
     "output_type": "execute_result"
    },
    {
     "data": {
      "image/png": "[encoded data removed]",
      "text/plain": [
       "<Figure size 1080x1080 with 1 Axes>"
      ]
     },
     "metadata": {
      "needs_background": "light"
     },
     "output_type": "display_data"
    }
   ],
   "source": [
    "ig, ax = plt.subplots(figsize=(15.0, 15.0))\n",
    "sns.distplot(scores, ax=ax)"
   ]
  },
  {
   "cell_type": "markdown",
   "metadata": {},
   "source": [
    "### Так-как биграмм в принципе больше чем коллокаций - нас скорее всего интересует крайний правый кусочек этого распределения"
   ]
  },
  {
   "cell_type": "code",
   "execution_count": 12,
   "metadata": {},
   "outputs": [
    {
     "data": {
      "application/vnd.jupyter.widget-view+json": {
       "model_id": "129b45d4f98f4418b6f659961397f926",
       "version_major": 2,
       "version_minor": 0
      },
      "text/plain": [
       "HBox(children=(FloatProgress(value=0.0, max=75659.0), HTML(value='')))"
      ]
     },
     "metadata": {},
     "output_type": "display_data"
    },
    {
     "name": "stdout",
     "output_type": "stream",
     "text": [
      "\n"
     ]
    },
    {
     "data": {
      "application/vnd.jupyter.widget-view+json": {
       "model_id": "6e5fd0dfdf784363a70f6e9d5098299a",
       "version_major": 2,
       "version_minor": 0
      },
      "text/plain": [
       "HBox(children=(FloatProgress(value=0.0, max=75659.0), HTML(value='')))"
      ]
     },
     "metadata": {},
     "output_type": "display_data"
    },
    {
     "name": "stdout",
     "output_type": "stream",
     "text": [
      "\n"
     ]
    },
    {
     "data": {
      "text/plain": [
       "[('wall_street', 53),\n",
       " ('подписка_невыезд', 44),\n",
       " ('сьерра_леон', 40),\n",
       " ('эхуд_барак', 35),\n",
       " ('рассесть_джонстон', 33),\n",
       " ('брюшной_тиф', 32),\n",
       " ('норильский_никель', 30),\n",
       " ('итум_калинский', 30),\n",
       " ('шкала_рихтер', 29),\n",
       " ('dow_jones', 28),\n",
       " ('кофи_аннана', 27),\n",
       " ('exit_polls', 26),\n",
       " ('сбс_агро', 25),\n",
       " ('русь_алексий', 25),\n",
       " ('волгонефть_147', 25),\n",
       " ('арби_бараев', 24),\n",
       " ('воздушно_десантный', 24),\n",
       " ('ясир_арафат', 23),\n",
       " ('general_motors', 23),\n",
       " ('манчестер_юнайтед', 23),\n",
       " ('кабардино_балкария', 22),\n",
       " ('джек_стро', 22),\n",
       " ('мишель_камдесся', 22),\n",
       " ('йорг_хайдер', 22),\n",
       " ('элла_памфилов', 22),\n",
       " ('турнирный_таблица', 22),\n",
       " ('взлётный_посадочный', 21),\n",
       " ('шри_ланка', 21),\n",
       " ('слободан_милошевич', 21),\n",
       " ('петропавловск_камчатский', 21),\n",
       " ('вихрь_антитеррор', 19),\n",
       " ('охотничий_ружьё', 19),\n",
       " ('черепный_мозговой', 19),\n",
       " ('иосиро_морить', 19),\n",
       " ('сердечный_приступ', 18),\n",
       " ('philip_morris', 18),\n",
       " ('аум_синрик', 18),\n",
       " ('саддам_хусейн', 18),\n",
       " ('генри_резник', 18),\n",
       " ('pentium_iii', 17)]"
      ]
     },
     "execution_count": 12,
     "metadata": {},
     "output_type": "execute_result"
    }
   ],
   "source": [
    "ph = gensim.models.Phrases(tqdm(corpus), scoring=pmi, threshold=9.8)\n",
    "p = gensim.models.phrases.Phraser(ph)\n",
    "visualize(p).most_common(40)"
   ]
  },
  {
   "cell_type": "markdown",
   "metadata": {},
   "source": [
    "## Выглядит неплохо\n",
    "В основном колокации выделены среди персоналий/имен компаний/географических обозначений + есть несколько общепринятых устойчивых выражений\n",
    "\n",
    "Можно пробовать уменьшать threshold, но тогда появляются обороты, специфичные для новостных текстов, вряд-ли они будут коллокациями вне новостного домена"
   ]
  }
 ],
 "metadata": {
  "kernelspec": {
   "display_name": "Python 3",
   "language": "python",
   "name": "python3"
  },
  "language_info": {
   "codemirror_mode": {
    "name": "ipython",
    "version": 3
   },
   "file_extension": ".py",
   "mimetype": "text/x-python",
   "name": "python",
   "nbconvert_exporter": "python",
   "pygments_lexer": "ipython3",
   "version": "3.8.2"
  }
 },
 "nbformat": 4,
 "nbformat_minor": 4
}
