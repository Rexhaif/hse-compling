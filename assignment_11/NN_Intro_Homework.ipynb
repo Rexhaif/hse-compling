{
  "nbformat": 4,
  "nbformat_minor": 0,
  "metadata": {
    "kernelspec": {
      "display_name": "Python 3",
      "language": "python",
      "name": "python3"
    },
    "language_info": {
      "codemirror_mode": {
        "name": "ipython",
        "version": 3
      },
      "file_extension": ".py",
      "mimetype": "text/x-python",
      "name": "python",
      "nbconvert_exporter": "python",
      "pygments_lexer": "ipython3",
      "version": "3.8.8"
    },
    "colab": {
      "name": "NN_Intro_Homework.ipynb",
      "provenance": []
    },
    "accelerator": "GPU",
    "widgets": {
      "application/vnd.jupyter.widget-state+json": {
        "bbce05794e94408181fc9c039baa9950": {
          "model_module": "@jupyter-widgets/controls",
          "model_name": "HBoxModel",
          "state": {
            "_view_name": "HBoxView",
            "_dom_classes": [],
            "_model_name": "HBoxModel",
            "_view_module": "@jupyter-widgets/controls",
            "_model_module_version": "1.5.0",
            "_view_count": null,
            "_view_module_version": "1.5.0",
            "box_style": "",
            "layout": "IPY_MODEL_a4461b01088b4bd289091bac2a8913ae",
            "_model_module": "@jupyter-widgets/controls",
            "children": [
              "IPY_MODEL_1ce51a988efe4c7499fc0b7e97ba37ff",
              "IPY_MODEL_78f61ecafaa244a4bc2c5ac84f6e4e26"
            ]
          }
        },
        "a4461b01088b4bd289091bac2a8913ae": {
          "model_module": "@jupyter-widgets/base",
          "model_name": "LayoutModel",
          "state": {
            "_view_name": "LayoutView",
            "grid_template_rows": null,
            "right": null,
            "justify_content": null,
            "_view_module": "@jupyter-widgets/base",
            "overflow": null,
            "_model_module_version": "1.2.0",
            "_view_count": null,
            "flex_flow": null,
            "width": null,
            "min_width": null,
            "border": null,
            "align_items": null,
            "bottom": null,
            "_model_module": "@jupyter-widgets/base",
            "top": null,
            "grid_column": null,
            "overflow_y": null,
            "overflow_x": null,
            "grid_auto_flow": null,
            "grid_area": null,
            "grid_template_columns": null,
            "flex": null,
            "_model_name": "LayoutModel",
            "justify_items": null,
            "grid_row": null,
            "max_height": null,
            "align_content": null,
            "visibility": null,
            "align_self": null,
            "height": null,
            "min_height": null,
            "padding": null,
            "grid_auto_rows": null,
            "grid_gap": null,
            "max_width": null,
            "order": null,
            "_view_module_version": "1.2.0",
            "grid_template_areas": null,
            "object_position": null,
            "object_fit": null,
            "grid_auto_columns": null,
            "margin": null,
            "display": null,
            "left": null
          }
        },
        "1ce51a988efe4c7499fc0b7e97ba37ff": {
          "model_module": "@jupyter-widgets/controls",
          "model_name": "FloatProgressModel",
          "state": {
            "_view_name": "ProgressView",
            "style": "IPY_MODEL_873e85bb436747ee840788214a4cf665",
            "_dom_classes": [],
            "description": "Downloading: 100%",
            "_model_name": "FloatProgressModel",
            "bar_style": "success",
            "max": 1042301,
            "_view_module": "@jupyter-widgets/controls",
            "_model_module_version": "1.5.0",
            "value": 1042301,
            "_view_count": null,
            "_view_module_version": "1.5.0",
            "orientation": "horizontal",
            "min": 0,
            "description_tooltip": null,
            "_model_module": "@jupyter-widgets/controls",
            "layout": "IPY_MODEL_79c91fbdec48410b87186280f29260db"
          }
        },
        "78f61ecafaa244a4bc2c5ac84f6e4e26": {
          "model_module": "@jupyter-widgets/controls",
          "model_name": "HTMLModel",
          "state": {
            "_view_name": "HTMLView",
            "style": "IPY_MODEL_ff7f62734c5b411ab1295178bc68936f",
            "_dom_classes": [],
            "description": "",
            "_model_name": "HTMLModel",
            "placeholder": "​",
            "_view_module": "@jupyter-widgets/controls",
            "_model_module_version": "1.5.0",
            "value": " 1.04M/1.04M [00:10&lt;00:00, 102kB/s]",
            "_view_count": null,
            "_view_module_version": "1.5.0",
            "description_tooltip": null,
            "_model_module": "@jupyter-widgets/controls",
            "layout": "IPY_MODEL_2b9a30e61b90448992bb8a6dfdf41b11"
          }
        },
        "873e85bb436747ee840788214a4cf665": {
          "model_module": "@jupyter-widgets/controls",
          "model_name": "ProgressStyleModel",
          "state": {
            "_view_name": "StyleView",
            "_model_name": "ProgressStyleModel",
            "description_width": "initial",
            "_view_module": "@jupyter-widgets/base",
            "_model_module_version": "1.5.0",
            "_view_count": null,
            "_view_module_version": "1.2.0",
            "bar_color": null,
            "_model_module": "@jupyter-widgets/controls"
          }
        },
        "79c91fbdec48410b87186280f29260db": {
          "model_module": "@jupyter-widgets/base",
          "model_name": "LayoutModel",
          "state": {
            "_view_name": "LayoutView",
            "grid_template_rows": null,
            "right": null,
            "justify_content": null,
            "_view_module": "@jupyter-widgets/base",
            "overflow": null,
            "_model_module_version": "1.2.0",
            "_view_count": null,
            "flex_flow": null,
            "width": null,
            "min_width": null,
            "border": null,
            "align_items": null,
            "bottom": null,
            "_model_module": "@jupyter-widgets/base",
            "top": null,
            "grid_column": null,
            "overflow_y": null,
            "overflow_x": null,
            "grid_auto_flow": null,
            "grid_area": null,
            "grid_template_columns": null,
            "flex": null,
            "_model_name": "LayoutModel",
            "justify_items": null,
            "grid_row": null,
            "max_height": null,
            "align_content": null,
            "visibility": null,
            "align_self": null,
            "height": null,
            "min_height": null,
            "padding": null,
            "grid_auto_rows": null,
            "grid_gap": null,
            "max_width": null,
            "order": null,
            "_view_module_version": "1.2.0",
            "grid_template_areas": null,
            "object_position": null,
            "object_fit": null,
            "grid_auto_columns": null,
            "margin": null,
            "display": null,
            "left": null
          }
        },
        "ff7f62734c5b411ab1295178bc68936f": {
          "model_module": "@jupyter-widgets/controls",
          "model_name": "DescriptionStyleModel",
          "state": {
            "_view_name": "StyleView",
            "_model_name": "DescriptionStyleModel",
            "description_width": "",
            "_view_module": "@jupyter-widgets/base",
            "_model_module_version": "1.5.0",
            "_view_count": null,
            "_view_module_version": "1.2.0",
            "_model_module": "@jupyter-widgets/controls"
          }
        },
        "2b9a30e61b90448992bb8a6dfdf41b11": {
          "model_module": "@jupyter-widgets/base",
          "model_name": "LayoutModel",
          "state": {
            "_view_name": "LayoutView",
            "grid_template_rows": null,
            "right": null,
            "justify_content": null,
            "_view_module": "@jupyter-widgets/base",
            "overflow": null,
            "_model_module_version": "1.2.0",
            "_view_count": null,
            "flex_flow": null,
            "width": null,
            "min_width": null,
            "border": null,
            "align_items": null,
            "bottom": null,
            "_model_module": "@jupyter-widgets/base",
            "top": null,
            "grid_column": null,
            "overflow_y": null,
            "overflow_x": null,
            "grid_auto_flow": null,
            "grid_area": null,
            "grid_template_columns": null,
            "flex": null,
            "_model_name": "LayoutModel",
            "justify_items": null,
            "grid_row": null,
            "max_height": null,
            "align_content": null,
            "visibility": null,
            "align_self": null,
            "height": null,
            "min_height": null,
            "padding": null,
            "grid_auto_rows": null,
            "grid_gap": null,
            "max_width": null,
            "order": null,
            "_view_module_version": "1.2.0",
            "grid_template_areas": null,
            "object_position": null,
            "object_fit": null,
            "grid_auto_columns": null,
            "margin": null,
            "display": null,
            "left": null
          }
        },
        "5843a2b550f0427a85c92ad70be53a64": {
          "model_module": "@jupyter-widgets/controls",
          "model_name": "HBoxModel",
          "state": {
            "_view_name": "HBoxView",
            "_dom_classes": [],
            "_model_name": "HBoxModel",
            "_view_module": "@jupyter-widgets/controls",
            "_model_module_version": "1.5.0",
            "_view_count": null,
            "_view_module_version": "1.5.0",
            "box_style": "",
            "layout": "IPY_MODEL_02a60967136b4a8da56a6c35aaa13ed2",
            "_model_module": "@jupyter-widgets/controls",
            "children": [
              "IPY_MODEL_032d37bdee514edeaa1db7a62570efb9",
              "IPY_MODEL_5909d56bfeb7436683680fa0f020b4b5"
            ]
          }
        },
        "02a60967136b4a8da56a6c35aaa13ed2": {
          "model_module": "@jupyter-widgets/base",
          "model_name": "LayoutModel",
          "state": {
            "_view_name": "LayoutView",
            "grid_template_rows": null,
            "right": null,
            "justify_content": null,
            "_view_module": "@jupyter-widgets/base",
            "overflow": null,
            "_model_module_version": "1.2.0",
            "_view_count": null,
            "flex_flow": null,
            "width": null,
            "min_width": null,
            "border": null,
            "align_items": null,
            "bottom": null,
            "_model_module": "@jupyter-widgets/base",
            "top": null,
            "grid_column": null,
            "overflow_y": null,
            "overflow_x": null,
            "grid_auto_flow": null,
            "grid_area": null,
            "grid_template_columns": null,
            "flex": null,
            "_model_name": "LayoutModel",
            "justify_items": null,
            "grid_row": null,
            "max_height": null,
            "align_content": null,
            "visibility": null,
            "align_self": null,
            "height": null,
            "min_height": null,
            "padding": null,
            "grid_auto_rows": null,
            "grid_gap": null,
            "max_width": null,
            "order": null,
            "_view_module_version": "1.2.0",
            "grid_template_areas": null,
            "object_position": null,
            "object_fit": null,
            "grid_auto_columns": null,
            "margin": null,
            "display": null,
            "left": null
          }
        },
        "032d37bdee514edeaa1db7a62570efb9": {
          "model_module": "@jupyter-widgets/controls",
          "model_name": "FloatProgressModel",
          "state": {
            "_view_name": "ProgressView",
            "style": "IPY_MODEL_d2469063571645979c68aea5bbac9084",
            "_dom_classes": [],
            "description": "Downloading: 100%",
            "_model_name": "FloatProgressModel",
            "bar_style": "success",
            "max": 456318,
            "_view_module": "@jupyter-widgets/controls",
            "_model_module_version": "1.5.0",
            "value": 456318,
            "_view_count": null,
            "_view_module_version": "1.5.0",
            "orientation": "horizontal",
            "min": 0,
            "description_tooltip": null,
            "_model_module": "@jupyter-widgets/controls",
            "layout": "IPY_MODEL_8fb204729e884740a4a0aa6118708f6a"
          }
        },
        "5909d56bfeb7436683680fa0f020b4b5": {
          "model_module": "@jupyter-widgets/controls",
          "model_name": "HTMLModel",
          "state": {
            "_view_name": "HTMLView",
            "style": "IPY_MODEL_ae8c2f346129490bbf382e2969887ad5",
            "_dom_classes": [],
            "description": "",
            "_model_name": "HTMLModel",
            "placeholder": "​",
            "_view_module": "@jupyter-widgets/controls",
            "_model_module_version": "1.5.0",
            "value": " 456k/456k [00:01&lt;00:00, 439kB/s]",
            "_view_count": null,
            "_view_module_version": "1.5.0",
            "description_tooltip": null,
            "_model_module": "@jupyter-widgets/controls",
            "layout": "IPY_MODEL_363db11488b24192b61ad60443a1b35d"
          }
        },
        "d2469063571645979c68aea5bbac9084": {
          "model_module": "@jupyter-widgets/controls",
          "model_name": "ProgressStyleModel",
          "state": {
            "_view_name": "StyleView",
            "_model_name": "ProgressStyleModel",
            "description_width": "initial",
            "_view_module": "@jupyter-widgets/base",
            "_model_module_version": "1.5.0",
            "_view_count": null,
            "_view_module_version": "1.2.0",
            "bar_color": null,
            "_model_module": "@jupyter-widgets/controls"
          }
        },
        "8fb204729e884740a4a0aa6118708f6a": {
          "model_module": "@jupyter-widgets/base",
          "model_name": "LayoutModel",
          "state": {
            "_view_name": "LayoutView",
            "grid_template_rows": null,
            "right": null,
            "justify_content": null,
            "_view_module": "@jupyter-widgets/base",
            "overflow": null,
            "_model_module_version": "1.2.0",
            "_view_count": null,
            "flex_flow": null,
            "width": null,
            "min_width": null,
            "border": null,
            "align_items": null,
            "bottom": null,
            "_model_module": "@jupyter-widgets/base",
            "top": null,
            "grid_column": null,
            "overflow_y": null,
            "overflow_x": null,
            "grid_auto_flow": null,
            "grid_area": null,
            "grid_template_columns": null,
            "flex": null,
            "_model_name": "LayoutModel",
            "justify_items": null,
            "grid_row": null,
            "max_height": null,
            "align_content": null,
            "visibility": null,
            "align_self": null,
            "height": null,
            "min_height": null,
            "padding": null,
            "grid_auto_rows": null,
            "grid_gap": null,
            "max_width": null,
            "order": null,
            "_view_module_version": "1.2.0",
            "grid_template_areas": null,
            "object_position": null,
            "object_fit": null,
            "grid_auto_columns": null,
            "margin": null,
            "display": null,
            "left": null
          }
        },
        "ae8c2f346129490bbf382e2969887ad5": {
          "model_module": "@jupyter-widgets/controls",
          "model_name": "DescriptionStyleModel",
          "state": {
            "_view_name": "StyleView",
            "_model_name": "DescriptionStyleModel",
            "description_width": "",
            "_view_module": "@jupyter-widgets/base",
            "_model_module_version": "1.5.0",
            "_view_count": null,
            "_view_module_version": "1.2.0",
            "_model_module": "@jupyter-widgets/controls"
          }
        },
        "363db11488b24192b61ad60443a1b35d": {
          "model_module": "@jupyter-widgets/base",
          "model_name": "LayoutModel",
          "state": {
            "_view_name": "LayoutView",
            "grid_template_rows": null,
            "right": null,
            "justify_content": null,
            "_view_module": "@jupyter-widgets/base",
            "overflow": null,
            "_model_module_version": "1.2.0",
            "_view_count": null,
            "flex_flow": null,
            "width": null,
            "min_width": null,
            "border": null,
            "align_items": null,
            "bottom": null,
            "_model_module": "@jupyter-widgets/base",
            "top": null,
            "grid_column": null,
            "overflow_y": null,
            "overflow_x": null,
            "grid_auto_flow": null,
            "grid_area": null,
            "grid_template_columns": null,
            "flex": null,
            "_model_name": "LayoutModel",
            "justify_items": null,
            "grid_row": null,
            "max_height": null,
            "align_content": null,
            "visibility": null,
            "align_self": null,
            "height": null,
            "min_height": null,
            "padding": null,
            "grid_auto_rows": null,
            "grid_gap": null,
            "max_width": null,
            "order": null,
            "_view_module_version": "1.2.0",
            "grid_template_areas": null,
            "object_position": null,
            "object_fit": null,
            "grid_auto_columns": null,
            "margin": null,
            "display": null,
            "left": null
          }
        },
        "8d3806f807784be3afbd9f14f84e6d36": {
          "model_module": "@jupyter-widgets/controls",
          "model_name": "HBoxModel",
          "state": {
            "_view_name": "HBoxView",
            "_dom_classes": [],
            "_model_name": "HBoxModel",
            "_view_module": "@jupyter-widgets/controls",
            "_model_module_version": "1.5.0",
            "_view_count": null,
            "_view_module_version": "1.5.0",
            "box_style": "",
            "layout": "IPY_MODEL_40f735d0ccbb4cb298fb0633dde8b6ea",
            "_model_module": "@jupyter-widgets/controls",
            "children": [
              "IPY_MODEL_9d0b7710082a474ea7d5e685e48b59bf",
              "IPY_MODEL_d090e8d05b1f4870be40c864c68372e1"
            ]
          }
        },
        "40f735d0ccbb4cb298fb0633dde8b6ea": {
          "model_module": "@jupyter-widgets/base",
          "model_name": "LayoutModel",
          "state": {
            "_view_name": "LayoutView",
            "grid_template_rows": null,
            "right": null,
            "justify_content": null,
            "_view_module": "@jupyter-widgets/base",
            "overflow": null,
            "_model_module_version": "1.2.0",
            "_view_count": null,
            "flex_flow": null,
            "width": null,
            "min_width": null,
            "border": null,
            "align_items": null,
            "bottom": null,
            "_model_module": "@jupyter-widgets/base",
            "top": null,
            "grid_column": null,
            "overflow_y": null,
            "overflow_x": null,
            "grid_auto_flow": null,
            "grid_area": null,
            "grid_template_columns": null,
            "flex": null,
            "_model_name": "LayoutModel",
            "justify_items": null,
            "grid_row": null,
            "max_height": null,
            "align_content": null,
            "visibility": null,
            "align_self": null,
            "height": null,
            "min_height": null,
            "padding": null,
            "grid_auto_rows": null,
            "grid_gap": null,
            "max_width": null,
            "order": null,
            "_view_module_version": "1.2.0",
            "grid_template_areas": null,
            "object_position": null,
            "object_fit": null,
            "grid_auto_columns": null,
            "margin": null,
            "display": null,
            "left": null
          }
        },
        "9d0b7710082a474ea7d5e685e48b59bf": {
          "model_module": "@jupyter-widgets/controls",
          "model_name": "FloatProgressModel",
          "state": {
            "_view_name": "ProgressView",
            "style": "IPY_MODEL_3a9a7da0a12441fdbf216cef340a560f",
            "_dom_classes": [],
            "description": "Downloading: 100%",
            "_model_name": "FloatProgressModel",
            "bar_style": "success",
            "max": 1355256,
            "_view_module": "@jupyter-widgets/controls",
            "_model_module_version": "1.5.0",
            "value": 1355256,
            "_view_count": null,
            "_view_module_version": "1.5.0",
            "orientation": "horizontal",
            "min": 0,
            "description_tooltip": null,
            "_model_module": "@jupyter-widgets/controls",
            "layout": "IPY_MODEL_2225e5b95ad148f2952e6cb03ae0abd0"
          }
        },
        "d090e8d05b1f4870be40c864c68372e1": {
          "model_module": "@jupyter-widgets/controls",
          "model_name": "HTMLModel",
          "state": {
            "_view_name": "HTMLView",
            "style": "IPY_MODEL_7723e1609c4741c3917ddb794086bcf2",
            "_dom_classes": [],
            "description": "",
            "_model_name": "HTMLModel",
            "placeholder": "​",
            "_view_module": "@jupyter-widgets/controls",
            "_model_module_version": "1.5.0",
            "value": " 1.36M/1.36M [00:08&lt;00:00, 157kB/s]",
            "_view_count": null,
            "_view_module_version": "1.5.0",
            "description_tooltip": null,
            "_model_module": "@jupyter-widgets/controls",
            "layout": "IPY_MODEL_ec4ffca1e32f47a6a3479bd4ebcdd4dd"
          }
        },
        "3a9a7da0a12441fdbf216cef340a560f": {
          "model_module": "@jupyter-widgets/controls",
          "model_name": "ProgressStyleModel",
          "state": {
            "_view_name": "StyleView",
            "_model_name": "ProgressStyleModel",
            "description_width": "initial",
            "_view_module": "@jupyter-widgets/base",
            "_model_module_version": "1.5.0",
            "_view_count": null,
            "_view_module_version": "1.2.0",
            "bar_color": null,
            "_model_module": "@jupyter-widgets/controls"
          }
        },
        "2225e5b95ad148f2952e6cb03ae0abd0": {
          "model_module": "@jupyter-widgets/base",
          "model_name": "LayoutModel",
          "state": {
            "_view_name": "LayoutView",
            "grid_template_rows": null,
            "right": null,
            "justify_content": null,
            "_view_module": "@jupyter-widgets/base",
            "overflow": null,
            "_model_module_version": "1.2.0",
            "_view_count": null,
            "flex_flow": null,
            "width": null,
            "min_width": null,
            "border": null,
            "align_items": null,
            "bottom": null,
            "_model_module": "@jupyter-widgets/base",
            "top": null,
            "grid_column": null,
            "overflow_y": null,
            "overflow_x": null,
            "grid_auto_flow": null,
            "grid_area": null,
            "grid_template_columns": null,
            "flex": null,
            "_model_name": "LayoutModel",
            "justify_items": null,
            "grid_row": null,
            "max_height": null,
            "align_content": null,
            "visibility": null,
            "align_self": null,
            "height": null,
            "min_height": null,
            "padding": null,
            "grid_auto_rows": null,
            "grid_gap": null,
            "max_width": null,
            "order": null,
            "_view_module_version": "1.2.0",
            "grid_template_areas": null,
            "object_position": null,
            "object_fit": null,
            "grid_auto_columns": null,
            "margin": null,
            "display": null,
            "left": null
          }
        },
        "7723e1609c4741c3917ddb794086bcf2": {
          "model_module": "@jupyter-widgets/controls",
          "model_name": "DescriptionStyleModel",
          "state": {
            "_view_name": "StyleView",
            "_model_name": "DescriptionStyleModel",
            "description_width": "",
            "_view_module": "@jupyter-widgets/base",
            "_model_module_version": "1.5.0",
            "_view_count": null,
            "_view_module_version": "1.2.0",
            "_model_module": "@jupyter-widgets/controls"
          }
        },
        "ec4ffca1e32f47a6a3479bd4ebcdd4dd": {
          "model_module": "@jupyter-widgets/base",
          "model_name": "LayoutModel",
          "state": {
            "_view_name": "LayoutView",
            "grid_template_rows": null,
            "right": null,
            "justify_content": null,
            "_view_module": "@jupyter-widgets/base",
            "overflow": null,
            "_model_module_version": "1.2.0",
            "_view_count": null,
            "flex_flow": null,
            "width": null,
            "min_width": null,
            "border": null,
            "align_items": null,
            "bottom": null,
            "_model_module": "@jupyter-widgets/base",
            "top": null,
            "grid_column": null,
            "overflow_y": null,
            "overflow_x": null,
            "grid_auto_flow": null,
            "grid_area": null,
            "grid_template_columns": null,
            "flex": null,
            "_model_name": "LayoutModel",
            "justify_items": null,
            "grid_row": null,
            "max_height": null,
            "align_content": null,
            "visibility": null,
            "align_self": null,
            "height": null,
            "min_height": null,
            "padding": null,
            "grid_auto_rows": null,
            "grid_gap": null,
            "max_width": null,
            "order": null,
            "_view_module_version": "1.2.0",
            "grid_template_areas": null,
            "object_position": null,
            "object_fit": null,
            "grid_auto_columns": null,
            "margin": null,
            "display": null,
            "left": null
          }
        }
      }
    }
  },
  "cells": [
    {
      "cell_type": "code",
      "metadata": {
        "colab": {
          "base_uri": "https://localhost:8080/"
        },
        "id": "tN7Bwv_r4cqe",
        "outputId": "2a4f3847-c3b0-4a3e-ab02-a36a49327012"
      },
      "source": [
        "!pip install -q transformers"
      ],
      "execution_count": 2,
      "outputs": [
        {
          "output_type": "stream",
          "text": [
            "\u001b[K     |████████████████████████████████| 2.5MB 8.7MB/s \n",
            "\u001b[K     |████████████████████████████████| 901kB 47.4MB/s \n",
            "\u001b[K     |████████████████████████████████| 3.3MB 46.8MB/s \n",
            "\u001b[?25h"
          ],
          "name": "stdout"
        }
      ]
    },
    {
      "cell_type": "code",
      "metadata": {
        "colab": {
          "base_uri": "https://localhost:8080/"
        },
        "id": "plgQKllaknZZ",
        "outputId": "2578cadc-6869-445b-961c-96dd7f39998a"
      },
      "source": [
        "from google.colab import drive\n",
        "drive.mount('/content/drive')"
      ],
      "execution_count": 1,
      "outputs": [
        {
          "output_type": "stream",
          "text": [
            "Mounted at /content/drive\n"
          ],
          "name": "stdout"
        }
      ]
    },
    {
      "cell_type": "code",
      "metadata": {
        "id": "0eN2lHRVqzxv"
      },
      "source": [
        "import tensorflow as tf"
      ],
      "execution_count": 3,
      "outputs": []
    },
    {
      "cell_type": "code",
      "metadata": {
        "id": "O-a0gJXvqzxw"
      },
      "source": [
        "import pandas as pd\n",
        "import numpy as np\n",
        "from string import punctuation\n",
        "from sklearn.model_selection import train_test_split\n",
        "from collections import Counter\n",
        "import matplotlib.pyplot as plt\n",
        "from tqdm import tqdm\n",
        "%matplotlib inline"
      ],
      "execution_count": 4,
      "outputs": []
    },
    {
      "cell_type": "markdown",
      "metadata": {
        "id": "d0A3ibKW5g4t"
      },
      "source": [
        "## Для бонусного балла - прикручиваю к первой задачке tokenizers\n",
        "Обучение нового токенизатора через tokenizers насмерть вешает колаб, поэтому я заюзаю предобученный токенайзер из gpt-2"
      ]
    },
    {
      "cell_type": "code",
      "metadata": {
        "id": "QibTk1XJ4ged"
      },
      "source": [
        "from transformers import GPT2TokenizerFast"
      ],
      "execution_count": 5,
      "outputs": []
    },
    {
      "cell_type": "code",
      "metadata": {
        "colab": {
          "base_uri": "https://localhost:8080/",
          "height": 164,
          "referenced_widgets": [
            "bbce05794e94408181fc9c039baa9950",
            "a4461b01088b4bd289091bac2a8913ae",
            "1ce51a988efe4c7499fc0b7e97ba37ff",
            "78f61ecafaa244a4bc2c5ac84f6e4e26",
            "873e85bb436747ee840788214a4cf665",
            "79c91fbdec48410b87186280f29260db",
            "ff7f62734c5b411ab1295178bc68936f",
            "2b9a30e61b90448992bb8a6dfdf41b11",
            "5843a2b550f0427a85c92ad70be53a64",
            "02a60967136b4a8da56a6c35aaa13ed2",
            "032d37bdee514edeaa1db7a62570efb9",
            "5909d56bfeb7436683680fa0f020b4b5",
            "d2469063571645979c68aea5bbac9084",
            "8fb204729e884740a4a0aa6118708f6a",
            "ae8c2f346129490bbf382e2969887ad5",
            "363db11488b24192b61ad60443a1b35d",
            "8d3806f807784be3afbd9f14f84e6d36",
            "40f735d0ccbb4cb298fb0633dde8b6ea",
            "9d0b7710082a474ea7d5e685e48b59bf",
            "d090e8d05b1f4870be40c864c68372e1",
            "3a9a7da0a12441fdbf216cef340a560f",
            "2225e5b95ad148f2952e6cb03ae0abd0",
            "7723e1609c4741c3917ddb794086bcf2",
            "ec4ffca1e32f47a6a3479bd4ebcdd4dd"
          ]
        },
        "id": "bYMoJ97hr9Rh",
        "outputId": "b6261adb-f008-46a9-f206-30ee43d690e7"
      },
      "source": [
        "tokenizer = GPT2TokenizerFast.from_pretrained(\"gpt2\")"
      ],
      "execution_count": 6,
      "outputs": [
        {
          "output_type": "display_data",
          "data": {
            "application/vnd.jupyter.widget-view+json": {
              "model_id": "bbce05794e94408181fc9c039baa9950",
              "version_minor": 0,
              "version_major": 2
            },
            "text/plain": [
              "HBox(children=(FloatProgress(value=0.0, description='Downloading', max=1042301.0, style=ProgressStyle(descript…"
            ]
          },
          "metadata": {
            "tags": []
          }
        },
        {
          "output_type": "stream",
          "text": [
            "\n"
          ],
          "name": "stdout"
        },
        {
          "output_type": "display_data",
          "data": {
            "application/vnd.jupyter.widget-view+json": {
              "model_id": "5843a2b550f0427a85c92ad70be53a64",
              "version_minor": 0,
              "version_major": 2
            },
            "text/plain": [
              "HBox(children=(FloatProgress(value=0.0, description='Downloading', max=456318.0, style=ProgressStyle(descripti…"
            ]
          },
          "metadata": {
            "tags": []
          }
        },
        {
          "output_type": "stream",
          "text": [
            "\n"
          ],
          "name": "stdout"
        },
        {
          "output_type": "display_data",
          "data": {
            "application/vnd.jupyter.widget-view+json": {
              "model_id": "8d3806f807784be3afbd9f14f84e6d36",
              "version_minor": 0,
              "version_major": 2
            },
            "text/plain": [
              "HBox(children=(FloatProgress(value=0.0, description='Downloading', max=1355256.0, style=ProgressStyle(descript…"
            ]
          },
          "metadata": {
            "tags": []
          }
        },
        {
          "output_type": "stream",
          "text": [
            "\n"
          ],
          "name": "stdout"
        }
      ]
    },
    {
      "cell_type": "code",
      "metadata": {
        "id": "2ktA9RSYqzxy"
      },
      "source": [
        "def preprocess(text):\n",
        "    tokens = tokenizer(text)['input_ids']\n",
        "    return tokens"
      ],
      "execution_count": 7,
      "outputs": []
    },
    {
      "cell_type": "code",
      "metadata": {
        "id": "lV6VB_sdqzx6"
      },
      "source": [
        "quora = pd.read_csv('./drive/MyDrive/train.csv.zip')"
      ],
      "execution_count": 8,
      "outputs": []
    },
    {
      "cell_type": "code",
      "metadata": {
        "id": "79XxKi3cqzx7",
        "colab": {
          "base_uri": "https://localhost:8080/"
        },
        "outputId": "64006725-a9a5-46e5-83f6-ce1db31464b0"
      },
      "source": [
        "# переводим тексты в последовательности индексов\n",
        "X = []\n",
        "\n",
        "for text in tqdm(quora.question_text):\n",
        "    tokens = preprocess(text) # no longer need to convert tokens to ids\n",
        "    X.append(tokens)"
      ],
      "execution_count": 9,
      "outputs": [
        {
          "output_type": "stream",
          "text": [
            "100%|██████████| 1306122/1306122 [01:53<00:00, 11480.57it/s]\n"
          ],
          "name": "stderr"
        }
      ]
    },
    {
      "cell_type": "code",
      "metadata": {
        "id": "XmnOHzmVqzx8",
        "colab": {
          "base_uri": "https://localhost:8080/"
        },
        "outputId": "0ea8a58c-eaa0-4782-cf07-5c92df0b7b81"
      },
      "source": [
        "MAX_LEN = max(len(x) for x in X)\n",
        "print(f\"Max len = {MAX_LEN}\")"
      ],
      "execution_count": 10,
      "outputs": [
        {
          "output_type": "stream",
          "text": [
            "Max len = 566\n"
          ],
          "name": "stdout"
        }
      ]
    },
    {
      "cell_type": "code",
      "metadata": {
        "id": "BdrAsCAwqzx8",
        "colab": {
          "base_uri": "https://localhost:8080/"
        },
        "outputId": "e401e7b6-c492-4a7f-c90b-f7626a1f49f4"
      },
      "source": [
        "mean_len = np.mean([len(x) for x in X])\n",
        "std_len = np.std([len(x) for x in X])\n",
        "max_len = round(mean_len + 10*std_len)\n",
        "print(f\"New max len = {max_len} = {mean_len} + 10 * {std_len}\")"
      ],
      "execution_count": 11,
      "outputs": [
        {
          "output_type": "stream",
          "text": [
            "New max len = 101 = 15.64183743938162 + 10 * 8.55441193539583\n"
          ],
          "name": "stdout"
        }
      ]
    },
    {
      "cell_type": "code",
      "metadata": {
        "id": "9q_5qunlqzx8"
      },
      "source": [
        "# паддинг\n",
        "X = tf.keras.preprocessing.sequence.pad_sequences(X, maxlen=max_len, value=tokenizer.eos_token_id)"
      ],
      "execution_count": 12,
      "outputs": []
    },
    {
      "cell_type": "code",
      "metadata": {
        "id": "9RbK6wZ6qzx8"
      },
      "source": [
        "y = quora.target.values"
      ],
      "execution_count": 13,
      "outputs": []
    },
    {
      "cell_type": "markdown",
      "metadata": {
        "id": "2msYb1N-rJxo"
      },
      "source": [
        "---\n",
        "# Model training starts here\n",
        "\n",
        "---"
      ]
    },
    {
      "cell_type": "code",
      "metadata": {
        "id": "rN23jPWLtmLR"
      },
      "source": [
        "# enable mixed precision as we are on T4\n",
        "from tensorflow.keras import mixed_precision\n",
        "mixed_precision.set_global_policy('mixed_float16')"
      ],
      "execution_count": 55,
      "outputs": []
    },
    {
      "cell_type": "code",
      "metadata": {
        "id": "1ZPKfAk1qzx8"
      },
      "source": [
        "X_train, X_valid, y_train, y_valid = train_test_split(X, y, test_size=0.05, random_state=42)"
      ],
      "execution_count": 17,
      "outputs": []
    },
    {
      "cell_type": "code",
      "metadata": {
        "id": "B9b05vclqzx8"
      },
      "source": [
        "def make_model(style: str = \"concat\"):\n",
        "    inputs = tf.keras.layers.Input(shape=(max_len,))\n",
        "    embeddings = tf.keras.layers.Embedding(input_dim=tokenizer.vocab_size, output_dim=128)(inputs, )\n",
        "    if style == \"concat\":\n",
        "        mean = tf.keras.layers.Flatten()(embeddings)\n",
        "    elif style == \"avg\":\n",
        "        mean = tf.keras.layers.Lambda(lambda x: tf.keras.backend.mean(x, axis=1))(embeddings)\n",
        "    elif style == \"sum\":\n",
        "        mean = tf.keras.layers.Lambda(lambda x: tf.keras.backend.sum(x, axis=1))(embeddings)\n",
        "    else:\n",
        "        raise ValueError(f\"Unrecognized style argument: {style}\")\n",
        "\n",
        "    dense = tf.keras.layers.Dense(64, activation='relu')(mean)\n",
        "    dense = tf.keras.layers.Dense(64, activation='relu')(mean)\n",
        "    outputs = tf.keras.layers.Dense(1, activation='sigmoid')(dense)\n",
        "\n",
        "    model = tf.keras.Model(inputs=inputs, outputs=outputs)\n",
        "    optimizer = tf.keras.optimizers.Adam(learning_rate=0.0001)\n",
        "    model.compile(optimizer=optimizer,\n",
        "                loss='binary_crossentropy',\n",
        "                metrics=['accuracy'])\n",
        "    \n",
        "    return model\n"
      ],
      "execution_count": null,
      "outputs": []
    },
    {
      "cell_type": "markdown",
      "metadata": {
        "id": "r0qBNf62uTis"
      },
      "source": [
        "### Task 1: - compare embeddings concatenation/averaging/summation"
      ]
    },
    {
      "cell_type": "code",
      "metadata": {
        "id": "ZSPntmkOuRVx"
      },
      "source": [
        "model_concat = make_model(style='concat')\n",
        "model_avg    = make_model(style='avg')\n",
        "model_sum    = make_model(style='sum')"
      ],
      "execution_count": null,
      "outputs": []
    },
    {
      "cell_type": "code",
      "metadata": {
        "scrolled": true,
        "id": "Kpg0DzYmqzx8",
        "colab": {
          "base_uri": "https://localhost:8080/"
        },
        "outputId": "2ee2fc66-5f7d-4bbe-9428-1d2c7a198d4c"
      },
      "source": [
        "model_concat.fit(\n",
        "    X_train, y_train, \n",
        "    validation_data=(X_valid, y_valid),\n",
        "    batch_size=2048,\n",
        "    epochs=10\n",
        ")"
      ],
      "execution_count": null,
      "outputs": [
        {
          "output_type": "stream",
          "text": [
            "Epoch 1/10\n",
            "606/606 [==============================] - 69s 108ms/step - loss: 0.1835 - accuracy: 0.9402 - val_loss: 0.1298 - val_accuracy: 0.9498\n",
            "Epoch 2/10\n",
            "606/606 [==============================] - 65s 108ms/step - loss: 0.1208 - accuracy: 0.9522 - val_loss: 0.1157 - val_accuracy: 0.9538\n",
            "Epoch 3/10\n",
            "606/606 [==============================] - 65s 108ms/step - loss: 0.1093 - accuracy: 0.9560 - val_loss: 0.1111 - val_accuracy: 0.9553\n",
            "Epoch 4/10\n",
            "606/606 [==============================] - 65s 108ms/step - loss: 0.1031 - accuracy: 0.9583 - val_loss: 0.1098 - val_accuracy: 0.9562\n",
            "Epoch 5/10\n",
            "606/606 [==============================] - 65s 108ms/step - loss: 0.0983 - accuracy: 0.9602 - val_loss: 0.1100 - val_accuracy: 0.9563\n",
            "Epoch 6/10\n",
            "606/606 [==============================] - 65s 108ms/step - loss: 0.0938 - accuracy: 0.9618 - val_loss: 0.1112 - val_accuracy: 0.9559\n",
            "Epoch 7/10\n",
            "606/606 [==============================] - 65s 108ms/step - loss: 0.0892 - accuracy: 0.9638 - val_loss: 0.1137 - val_accuracy: 0.9554\n",
            "Epoch 8/10\n",
            "606/606 [==============================] - 65s 108ms/step - loss: 0.0842 - accuracy: 0.9661 - val_loss: 0.1169 - val_accuracy: 0.9547\n",
            "Epoch 9/10\n",
            "606/606 [==============================] - 65s 108ms/step - loss: 0.0787 - accuracy: 0.9686 - val_loss: 0.1224 - val_accuracy: 0.9549\n",
            "Epoch 10/10\n",
            "606/606 [==============================] - 65s 107ms/step - loss: 0.0728 - accuracy: 0.9714 - val_loss: 0.1261 - val_accuracy: 0.9537\n"
          ],
          "name": "stdout"
        },
        {
          "output_type": "execute_result",
          "data": {
            "text/plain": [
              "<tensorflow.python.keras.callbacks.History at 0x7f297bb86e90>"
            ]
          },
          "metadata": {
            "tags": []
          },
          "execution_count": 37
        }
      ]
    },
    {
      "cell_type": "code",
      "metadata": {
        "scrolled": true,
        "id": "kn8WR-wPqzx9",
        "colab": {
          "base_uri": "https://localhost:8080/"
        },
        "outputId": "4e97b06c-3393-4534-8da0-7919391a26bf"
      },
      "source": [
        "model_avg.fit(\n",
        "    X_train, y_train, \n",
        "    validation_data=(X_valid, y_valid),\n",
        "    batch_size=2048,\n",
        "    epochs=10\n",
        ")"
      ],
      "execution_count": null,
      "outputs": [
        {
          "output_type": "stream",
          "text": [
            "Epoch 1/10\n",
            "606/606 [==============================] - 65s 106ms/step - loss: 0.3845 - accuracy: 0.9364 - val_loss: 0.2211 - val_accuracy: 0.9396\n",
            "Epoch 2/10\n",
            "606/606 [==============================] - 64s 106ms/step - loss: 0.2185 - accuracy: 0.9381 - val_loss: 0.2091 - val_accuracy: 0.9396\n",
            "Epoch 3/10\n",
            "606/606 [==============================] - 64s 105ms/step - loss: 0.2071 - accuracy: 0.9381 - val_loss: 0.1942 - val_accuracy: 0.9396\n",
            "Epoch 4/10\n",
            "606/606 [==============================] - 65s 107ms/step - loss: 0.1852 - accuracy: 0.9393 - val_loss: 0.1668 - val_accuracy: 0.9429\n",
            "Epoch 5/10\n",
            "606/606 [==============================] - 64s 106ms/step - loss: 0.1584 - accuracy: 0.9432 - val_loss: 0.1453 - val_accuracy: 0.9470\n",
            "Epoch 6/10\n",
            "606/606 [==============================] - 65s 107ms/step - loss: 0.1423 - accuracy: 0.9466 - val_loss: 0.1349 - val_accuracy: 0.9498\n",
            "Epoch 7/10\n",
            "606/606 [==============================] - 65s 107ms/step - loss: 0.1339 - accuracy: 0.9488 - val_loss: 0.1293 - val_accuracy: 0.9518\n",
            "Epoch 8/10\n",
            "606/606 [==============================] - 64s 106ms/step - loss: 0.1285 - accuracy: 0.9504 - val_loss: 0.1251 - val_accuracy: 0.9526\n",
            "Epoch 9/10\n",
            "606/606 [==============================] - 64s 106ms/step - loss: 0.1246 - accuracy: 0.9516 - val_loss: 0.1223 - val_accuracy: 0.9534\n",
            "Epoch 10/10\n",
            "606/606 [==============================] - 64s 105ms/step - loss: 0.1216 - accuracy: 0.9526 - val_loss: 0.1201 - val_accuracy: 0.9537\n"
          ],
          "name": "stdout"
        },
        {
          "output_type": "execute_result",
          "data": {
            "text/plain": [
              "<tensorflow.python.keras.callbacks.History at 0x7f2974e41150>"
            ]
          },
          "metadata": {
            "tags": []
          },
          "execution_count": 38
        }
      ]
    },
    {
      "cell_type": "code",
      "metadata": {
        "colab": {
          "base_uri": "https://localhost:8080/"
        },
        "id": "iuRhSmA3zI5S",
        "outputId": "0da9d2d5-a2c7-418f-a59c-f461467036b9"
      },
      "source": [
        "model_sum.fit(\n",
        "    X_train, y_train, \n",
        "    validation_data=(X_valid, y_valid),\n",
        "    batch_size=2048,\n",
        "    epochs=10\n",
        ")"
      ],
      "execution_count": null,
      "outputs": [
        {
          "output_type": "stream",
          "text": [
            "Epoch 1/10\n",
            "606/606 [==============================] - 63s 103ms/step - loss: 0.1581 - accuracy: 0.9443 - val_loss: 0.1245 - val_accuracy: 0.9530\n",
            "Epoch 2/10\n",
            "606/606 [==============================] - 62s 102ms/step - loss: 0.1183 - accuracy: 0.9535 - val_loss: 0.1137 - val_accuracy: 0.9552\n",
            "Epoch 3/10\n",
            "606/606 [==============================] - 62s 102ms/step - loss: 0.1094 - accuracy: 0.9564 - val_loss: 0.1107 - val_accuracy: 0.9565\n",
            "Epoch 4/10\n",
            "606/606 [==============================] - 63s 105ms/step - loss: 0.1045 - accuracy: 0.9580 - val_loss: 0.1098 - val_accuracy: 0.9568\n",
            "Epoch 5/10\n",
            "606/606 [==============================] - 62s 103ms/step - loss: 0.1013 - accuracy: 0.9591 - val_loss: 0.1103 - val_accuracy: 0.9567\n",
            "Epoch 6/10\n",
            "606/606 [==============================] - 62s 103ms/step - loss: 0.0986 - accuracy: 0.9600 - val_loss: 0.1114 - val_accuracy: 0.9559\n",
            "Epoch 7/10\n",
            "606/606 [==============================] - 62s 103ms/step - loss: 0.0964 - accuracy: 0.9609 - val_loss: 0.1108 - val_accuracy: 0.9566\n",
            "Epoch 8/10\n",
            "606/606 [==============================] - 62s 103ms/step - loss: 0.0946 - accuracy: 0.9618 - val_loss: 0.1120 - val_accuracy: 0.9559\n",
            "Epoch 9/10\n",
            "606/606 [==============================] - 62s 103ms/step - loss: 0.0927 - accuracy: 0.9625 - val_loss: 0.1125 - val_accuracy: 0.9564\n",
            "Epoch 10/10\n",
            "606/606 [==============================] - 62s 103ms/step - loss: 0.0910 - accuracy: 0.9633 - val_loss: 0.1135 - val_accuracy: 0.9565\n"
          ],
          "name": "stdout"
        },
        {
          "output_type": "execute_result",
          "data": {
            "text/plain": [
              "<tensorflow.python.keras.callbacks.History at 0x7f29710a2490>"
            ]
          },
          "metadata": {
            "tags": []
          },
          "execution_count": 39
        }
      ]
    },
    {
      "cell_type": "code",
      "metadata": {
        "id": "ZrIM5Ygdqzx9",
        "colab": {
          "base_uri": "https://localhost:8080/",
          "height": 621
        },
        "outputId": "5df7c8d9-69c0-4ae6-e318-40416473b865"
      },
      "source": [
        "_ = plt.figure(figsize=(15.0, 10.0))\n",
        "plt.plot(model_concat.history.history['val_accuracy'], \"g-D\")\n",
        "plt.plot(model_avg.history.history['val_accuracy'], \"y-D\")\n",
        "plt.plot(model_sum.history.history['val_accuracy'], \"r-D\")\n",
        "plt.title('Models accuracy')\n",
        "plt.ylabel('Accuracy')\n",
        "plt.xlabel('Epoch')\n",
        "plt.grid()\n",
        "plt.legend(['concat', 'avg', 'sum'], loc='upper left')\n",
        "plt.show()"
      ],
      "execution_count": null,
      "outputs": [
        {
          "output_type": "display_data",
          "data": {
            "image/png": "[encoded data removed]",
            "text/plain": [
              "<Figure size 1080x720 with 1 Axes>"
            ]
          },
          "metadata": {
            "tags": [],
            "needs_background": "light"
          }
        }
      ]
    },
    {
      "cell_type": "code",
      "metadata": {
        "id": "tLx5d_Onqzx9"
      },
      "source": [
        "from sklearn.metrics import classification_report"
      ],
      "execution_count": 61,
      "outputs": []
    },
    {
      "cell_type": "code",
      "metadata": {
        "id": "TcgQ2nMMqzx9"
      },
      "source": [
        "preds_concat = model_concat.predict(X_valid).reshape(-1)\n",
        "preds_avg = model_avg.predict(X_valid).reshape(-1)\n",
        "preds_sum = model_sum.predict(X_valid).reshape(-1)"
      ],
      "execution_count": null,
      "outputs": []
    },
    {
      "cell_type": "code",
      "metadata": {
        "id": "7aa71dTYqzx9",
        "colab": {
          "base_uri": "https://localhost:8080/"
        },
        "outputId": "e99262fd-69de-424d-b708-30d7940c2cad"
      },
      "source": [
        "print(classification_report(y_valid, (preds_concat > 0.5).astype(int)))"
      ],
      "execution_count": null,
      "outputs": [
        {
          "output_type": "stream",
          "text": [
            "              precision    recall  f1-score   support\n",
            "\n",
            "           0       0.97      0.98      0.98     61365\n",
            "           1       0.63      0.55      0.59      3942\n",
            "\n",
            "    accuracy                           0.95     65307\n",
            "   macro avg       0.80      0.77      0.78     65307\n",
            "weighted avg       0.95      0.95      0.95     65307\n",
            "\n"
          ],
          "name": "stdout"
        }
      ]
    },
    {
      "cell_type": "code",
      "metadata": {
        "colab": {
          "base_uri": "https://localhost:8080/"
        },
        "id": "PYDc5Bbe3iag",
        "outputId": "e6866353-94a6-428d-bcc1-c2ba3cb0b8a0"
      },
      "source": [
        "print(classification_report(y_valid, (preds_avg > 0.5).astype(int)))"
      ],
      "execution_count": null,
      "outputs": [
        {
          "output_type": "stream",
          "text": [
            "              precision    recall  f1-score   support\n",
            "\n",
            "           0       0.96      0.99      0.98     61365\n",
            "           1       0.70      0.41      0.51      3942\n",
            "\n",
            "    accuracy                           0.95     65307\n",
            "   macro avg       0.83      0.70      0.75     65307\n",
            "weighted avg       0.95      0.95      0.95     65307\n",
            "\n"
          ],
          "name": "stdout"
        }
      ]
    },
    {
      "cell_type": "code",
      "metadata": {
        "colab": {
          "base_uri": "https://localhost:8080/"
        },
        "id": "8DtEbMPD3lkF",
        "outputId": "875bffd0-f39c-40db-e83b-357b2f268262"
      },
      "source": [
        "print(classification_report(y_valid, (preds_sum > 0.5).astype(int)))"
      ],
      "execution_count": null,
      "outputs": [
        {
          "output_type": "stream",
          "text": [
            "              precision    recall  f1-score   support\n",
            "\n",
            "           0       0.97      0.98      0.98     61365\n",
            "           1       0.69      0.52      0.59      3942\n",
            "\n",
            "    accuracy                           0.96     65307\n",
            "   macro avg       0.83      0.75      0.78     65307\n",
            "weighted avg       0.95      0.96      0.95     65307\n",
            "\n"
          ],
          "name": "stdout"
        }
      ]
    },
    {
      "cell_type": "markdown",
      "metadata": {
        "id": "W-tdnkRY3rOu"
      },
      "source": [
        "---\n",
        "В общем, sum кажется работает немного лучше concat, и они оба значительно лучше усреднения\n",
        "\n",
        "---"
      ]
    },
    {
      "cell_type": "markdown",
      "metadata": {
        "id": "TUtSR48u4CN8"
      },
      "source": [
        "### Task 2: - Two different embeddings"
      ]
    },
    {
      "cell_type": "code",
      "metadata": {
        "id": "piYxhwLh4LYN"
      },
      "source": [
        "!pip install -q gensim"
      ],
      "execution_count": 18,
      "outputs": []
    },
    {
      "cell_type": "code",
      "metadata": {
        "id": "QmPPFEBP53re"
      },
      "source": [
        "from gensim.models import Word2Vec"
      ],
      "execution_count": 21,
      "outputs": []
    },
    {
      "cell_type": "code",
      "metadata": {
        "colab": {
          "base_uri": "https://localhost:8080/"
        },
        "id": "TYE2ERNo58R9",
        "outputId": "8334199a-bf61-49a8-ebb4-12e7790dfbb2"
      },
      "source": [
        "prepared_training_corpus = []\n",
        "for text in tqdm(quora.question_text):\n",
        "    tokenized = tokenizer.tokenize(text)\n",
        "    prepared_training_corpus.append(tokenized)"
      ],
      "execution_count": 24,
      "outputs": [
        {
          "output_type": "stream",
          "text": [
            "100%|██████████| 1306122/1306122 [01:54<00:00, 11414.74it/s]\n"
          ],
          "name": "stderr"
        }
      ]
    },
    {
      "cell_type": "code",
      "metadata": {
        "colab": {
          "base_uri": "https://localhost:8080/"
        },
        "id": "m9gaaaIkm81u",
        "outputId": "dfd6e920-ebee-42fb-b5eb-afdab6ad1046"
      },
      "source": [
        "tokenizer.tokenize(\"I see queen\")"
      ],
      "execution_count": 27,
      "outputs": [
        {
          "output_type": "execute_result",
          "data": {
            "text/plain": [
              "['I', 'Ġsee', 'Ġqueen']"
            ]
          },
          "metadata": {
            "tags": []
          },
          "execution_count": 27
        }
      ]
    },
    {
      "cell_type": "code",
      "metadata": {
        "id": "86R92Q026Y4h"
      },
      "source": [
        "# first embeddings, large window size\n",
        "w2v_1 = Word2Vec(\n",
        "    prepared_training_corpus,\n",
        "    size=128, window=7, workers=-1, min_count=0\n",
        ")"
      ],
      "execution_count": 35,
      "outputs": []
    },
    {
      "cell_type": "code",
      "metadata": {
        "id": "AMfR-tqkmtim"
      },
      "source": [
        "# second embeddings, small window size\n",
        "w2v_2 = Word2Vec(\n",
        "    prepared_training_corpus,\n",
        "    size=128, window=3, workers=-1, min_count=0\n",
        ")"
      ],
      "execution_count": 36,
      "outputs": []
    },
    {
      "cell_type": "code",
      "metadata": {
        "colab": {
          "base_uri": "https://localhost:8080/"
        },
        "id": "apzpWhMNm1R_",
        "outputId": "0e71fb9a-4660-4a84-b2c8-2ed8a2f16f5c"
      },
      "source": [
        "w2v_1_matrix = np.zeros((tokenizer.vocab_size, 128))\n",
        "total_miss_count = 0\n",
        "for word, idx in tqdm(tokenizer.vocab.items()):\n",
        "    if word not in w2v_1:\n",
        "        w2v_1_matrix[idx] = np.zeros(128)\n",
        "        total_miss_count += 1\n",
        "    else:\n",
        "        w2v_1_matrix[idx] = w2v_1.wv[word]\n",
        "\n",
        "print(f\"Unused vocab part is {total_miss_count} words\")"
      ],
      "execution_count": 43,
      "outputs": [
        {
          "output_type": "stream",
          "text": [
            "  0%|          | 0/50257 [00:00<?, ?it/s]/usr/local/lib/python3.7/dist-packages/ipykernel_launcher.py:4: DeprecationWarning: Call to deprecated `__contains__` (Method will be removed in 4.0.0, use self.wv.__contains__() instead).\n",
            "  after removing the cwd from sys.path.\n",
            "100%|██████████| 50257/50257 [00:00<00:00, 162604.99it/s]"
          ],
          "name": "stderr"
        },
        {
          "output_type": "stream",
          "text": [
            "Unused vocab part is 1982 words\n"
          ],
          "name": "stdout"
        },
        {
          "output_type": "stream",
          "text": [
            "\n"
          ],
          "name": "stderr"
        }
      ]
    },
    {
      "cell_type": "code",
      "metadata": {
        "colab": {
          "base_uri": "https://localhost:8080/"
        },
        "id": "xXJh_bFWnAsZ",
        "outputId": "4dd8bcd1-ac68-4ee7-84a9-1966288385eb"
      },
      "source": [
        "w2v_2_matrix = np.zeros((tokenizer.vocab_size, 128))\n",
        "total_miss_count = 0\n",
        "for word, idx in tqdm(tokenizer.vocab.items()):\n",
        "    if word not in w2v_2:\n",
        "        w2v_2_matrix[idx] = np.zeros(128)\n",
        "        total_miss_count += 1\n",
        "    else:\n",
        "        w2v_2_matrix[idx] = w2v_2.wv[word]\n",
        "\n",
        "print(f\"Unused vocab part is {total_miss_count} words\")"
      ],
      "execution_count": 44,
      "outputs": [
        {
          "output_type": "stream",
          "text": [
            "  0%|          | 0/50257 [00:00<?, ?it/s]/usr/local/lib/python3.7/dist-packages/ipykernel_launcher.py:4: DeprecationWarning: Call to deprecated `__contains__` (Method will be removed in 4.0.0, use self.wv.__contains__() instead).\n",
            "  after removing the cwd from sys.path.\n",
            "100%|██████████| 50257/50257 [00:00<00:00, 139472.02it/s]"
          ],
          "name": "stderr"
        },
        {
          "output_type": "stream",
          "text": [
            "Unused vocab part is 1982 words\n"
          ],
          "name": "stdout"
        },
        {
          "output_type": "stream",
          "text": [
            "\n"
          ],
          "name": "stderr"
        }
      ]
    },
    {
      "cell_type": "code",
      "metadata": {
        "id": "jIAW5Lo7pBQ6"
      },
      "source": [
        "def make_model_embeddings(matrix_1: np.ndarray, matrix_2: np.ndarray, union_style: str = 'avg'):\n",
        "    inputs = tf.keras.layers.Input(shape=(max_len,))\n",
        "    embeddings_1 = tf.keras.layers.Embedding(\n",
        "        input_dim=tokenizer.vocab_size, output_dim=128, \n",
        "        weights=[matrix_1], trainable=False\n",
        "    )(inputs,)\n",
        "    embeddings_2 = tf.keras.layers.Embedding(\n",
        "        input_dim=tokenizer.vocab_size, output_dim=128, \n",
        "        weights=[matrix_2], trainable=False\n",
        "    )(inputs,)\n",
        "\n",
        "    if union_style == 'avg':\n",
        "        embeddings = tf.keras.layers.Average()([embeddings_1, embeddings_2])\n",
        "    elif union_style == 'concat':\n",
        "        embeddings = tf.keras.layers.Concatenate()([embeddings_1, embeddings_2])\n",
        "    elif union_style == 'sum':\n",
        "        embeddings = tf.keras.layers.Add()([embeddings_1, embeddings_2])\n",
        "    else:\n",
        "        raise ValueError(f\"Unrecognized union_style {union_style}\")\n",
        "\n",
        "    mean = tf.keras.layers.Lambda(lambda x: tf.keras.backend.sum(x, axis=1))(embeddings)\n",
        "    dense = tf.keras.layers.Dense(64, activation='relu')(mean)\n",
        "    dense = tf.keras.layers.Dense(64, activation='relu')(mean)\n",
        "    outputs = tf.keras.layers.Dense(1, activation='sigmoid')(dense)\n",
        "\n",
        "    model = tf.keras.Model(inputs=inputs, outputs=outputs)\n",
        "    optimizer = tf.keras.optimizers.Adam(learning_rate=0.0001)\n",
        "    model.compile(optimizer=optimizer,\n",
        "                loss='binary_crossentropy',\n",
        "                metrics=['accuracy'])\n",
        "    \n",
        "    return model"
      ],
      "execution_count": 49,
      "outputs": []
    },
    {
      "cell_type": "code",
      "metadata": {
        "id": "wYVxcCKoqy95"
      },
      "source": [
        "model_concat = make_model_embeddings(w2v_1_matrix, w2v_2_matrix, 'concat')\n",
        "model_avg    = make_model_embeddings(w2v_1_matrix, w2v_2_matrix, 'avg')\n",
        "model_sum    = make_model_embeddings(w2v_1_matrix, w2v_2_matrix, 'sum')"
      ],
      "execution_count": 50,
      "outputs": []
    },
    {
      "cell_type": "code",
      "metadata": {
        "colab": {
          "base_uri": "https://localhost:8080/"
        },
        "id": "Z6N6Xz3FrJRf",
        "outputId": "4c732135-c80f-40de-bc54-b39bed6181d3"
      },
      "source": [
        "model_concat.fit(\n",
        "    X_train, y_train, \n",
        "    validation_data=(X_valid, y_valid),\n",
        "    batch_size=2048,\n",
        "    epochs=10\n",
        ")"
      ],
      "execution_count": 56,
      "outputs": [
        {
          "output_type": "stream",
          "text": [
            "Epoch 1/10\n",
            "606/606 [==============================] - 28s 46ms/step - loss: 0.5669 - accuracy: 0.9225 - val_loss: 0.4392 - val_accuracy: 0.9396\n",
            "Epoch 2/10\n",
            "606/606 [==============================] - 28s 45ms/step - loss: 0.3546 - accuracy: 0.9381 - val_loss: 0.2902 - val_accuracy: 0.9396\n",
            "Epoch 3/10\n",
            "606/606 [==============================] - 28s 46ms/step - loss: 0.2646 - accuracy: 0.9381 - val_loss: 0.2430 - val_accuracy: 0.9396\n",
            "Epoch 4/10\n",
            "606/606 [==============================] - 27s 45ms/step - loss: 0.2375 - accuracy: 0.9380 - val_loss: 0.2262 - val_accuracy: 0.9396\n",
            "Epoch 5/10\n",
            "606/606 [==============================] - 27s 45ms/step - loss: 0.2230 - accuracy: 0.9380 - val_loss: 0.2120 - val_accuracy: 0.9396\n",
            "Epoch 6/10\n",
            "606/606 [==============================] - 27s 45ms/step - loss: 0.2106 - accuracy: 0.9381 - val_loss: 0.2012 - val_accuracy: 0.9399\n",
            "Epoch 7/10\n",
            "606/606 [==============================] - 27s 45ms/step - loss: 0.2023 - accuracy: 0.9383 - val_loss: 0.1950 - val_accuracy: 0.9400\n",
            "Epoch 8/10\n",
            "606/606 [==============================] - 27s 45ms/step - loss: 0.1978 - accuracy: 0.9383 - val_loss: 0.1918 - val_accuracy: 0.9401\n",
            "Epoch 9/10\n",
            "606/606 [==============================] - 27s 45ms/step - loss: 0.1956 - accuracy: 0.9384 - val_loss: 0.1902 - val_accuracy: 0.9403\n",
            "Epoch 10/10\n",
            "606/606 [==============================] - 27s 45ms/step - loss: 0.1944 - accuracy: 0.9384 - val_loss: 0.1894 - val_accuracy: 0.9402\n"
          ],
          "name": "stdout"
        },
        {
          "output_type": "execute_result",
          "data": {
            "text/plain": [
              "<tensorflow.python.keras.callbacks.History at 0x7f8701c71090>"
            ]
          },
          "metadata": {
            "tags": []
          },
          "execution_count": 56
        }
      ]
    },
    {
      "cell_type": "code",
      "metadata": {
        "colab": {
          "base_uri": "https://localhost:8080/"
        },
        "id": "-58enRc7rRTJ",
        "outputId": "b64dc3a4-c971-4e82-bde3-866a4749939f"
      },
      "source": [
        "model_avg.fit(\n",
        "    X_train, y_train, \n",
        "    validation_data=(X_valid, y_valid),\n",
        "    batch_size=2048,\n",
        "    epochs=10\n",
        ")"
      ],
      "execution_count": 57,
      "outputs": [
        {
          "output_type": "stream",
          "text": [
            "Epoch 1/10\n",
            "606/606 [==============================] - 29s 46ms/step - loss: 0.5766 - accuracy: 0.9268 - val_loss: 0.4510 - val_accuracy: 0.9396\n",
            "Epoch 2/10\n",
            "606/606 [==============================] - 27s 45ms/step - loss: 0.3601 - accuracy: 0.9381 - val_loss: 0.2903 - val_accuracy: 0.9396\n",
            "Epoch 3/10\n",
            "606/606 [==============================] - 28s 45ms/step - loss: 0.2631 - accuracy: 0.9381 - val_loss: 0.2409 - val_accuracy: 0.9396\n",
            "Epoch 4/10\n",
            "606/606 [==============================] - 28s 46ms/step - loss: 0.2368 - accuracy: 0.9381 - val_loss: 0.2273 - val_accuracy: 0.9396\n",
            "Epoch 5/10\n",
            "606/606 [==============================] - 28s 45ms/step - loss: 0.2268 - accuracy: 0.9380 - val_loss: 0.2180 - val_accuracy: 0.9396\n",
            "Epoch 6/10\n",
            "606/606 [==============================] - 27s 45ms/step - loss: 0.2177 - accuracy: 0.9380 - val_loss: 0.2089 - val_accuracy: 0.9396\n",
            "Epoch 7/10\n",
            "606/606 [==============================] - 27s 45ms/step - loss: 0.2096 - accuracy: 0.9381 - val_loss: 0.2018 - val_accuracy: 0.9397\n",
            "Epoch 8/10\n",
            "606/606 [==============================] - 27s 45ms/step - loss: 0.2038 - accuracy: 0.9382 - val_loss: 0.1969 - val_accuracy: 0.9400\n",
            "Epoch 9/10\n",
            "606/606 [==============================] - 27s 45ms/step - loss: 0.2000 - accuracy: 0.9383 - val_loss: 0.1939 - val_accuracy: 0.9400\n",
            "Epoch 10/10\n",
            "606/606 [==============================] - 27s 45ms/step - loss: 0.1976 - accuracy: 0.9383 - val_loss: 0.1920 - val_accuracy: 0.9400\n"
          ],
          "name": "stdout"
        },
        {
          "output_type": "execute_result",
          "data": {
            "text/plain": [
              "<tensorflow.python.keras.callbacks.History at 0x7f8701a26fd0>"
            ]
          },
          "metadata": {
            "tags": []
          },
          "execution_count": 57
        }
      ]
    },
    {
      "cell_type": "code",
      "metadata": {
        "colab": {
          "base_uri": "https://localhost:8080/"
        },
        "id": "o6eUJmSuszPQ",
        "outputId": "85441a51-0638-449c-8d3a-e7e9f95990e1"
      },
      "source": [
        "model_sum.fit(\n",
        "    X_train, y_train, \n",
        "    validation_data=(X_valid, y_valid),\n",
        "    batch_size=2048,\n",
        "    epochs=10\n",
        ")"
      ],
      "execution_count": 58,
      "outputs": [
        {
          "output_type": "stream",
          "text": [
            "Epoch 1/10\n",
            "606/606 [==============================] - 28s 45ms/step - loss: 0.5392 - accuracy: 0.9337 - val_loss: 0.3927 - val_accuracy: 0.9396\n",
            "Epoch 2/10\n",
            "606/606 [==============================] - 28s 46ms/step - loss: 0.3147 - accuracy: 0.9380 - val_loss: 0.2617 - val_accuracy: 0.9396\n",
            "Epoch 3/10\n",
            "606/606 [==============================] - 28s 46ms/step - loss: 0.2470 - accuracy: 0.9380 - val_loss: 0.2324 - val_accuracy: 0.9396\n",
            "Epoch 4/10\n",
            "606/606 [==============================] - 28s 46ms/step - loss: 0.2301 - accuracy: 0.9380 - val_loss: 0.2201 - val_accuracy: 0.9396\n",
            "Epoch 5/10\n",
            "606/606 [==============================] - 28s 45ms/step - loss: 0.2181 - accuracy: 0.9380 - val_loss: 0.2079 - val_accuracy: 0.9396\n",
            "Epoch 6/10\n",
            "606/606 [==============================] - 28s 46ms/step - loss: 0.2078 - accuracy: 0.9382 - val_loss: 0.1993 - val_accuracy: 0.9400\n",
            "Epoch 7/10\n",
            "606/606 [==============================] - 28s 45ms/step - loss: 0.2011 - accuracy: 0.9382 - val_loss: 0.1942 - val_accuracy: 0.9400\n",
            "Epoch 8/10\n",
            "606/606 [==============================] - 28s 46ms/step - loss: 0.1973 - accuracy: 0.9383 - val_loss: 0.1915 - val_accuracy: 0.9402\n",
            "Epoch 9/10\n",
            "606/606 [==============================] - 28s 45ms/step - loss: 0.1954 - accuracy: 0.9383 - val_loss: 0.1901 - val_accuracy: 0.9402\n",
            "Epoch 10/10\n",
            "606/606 [==============================] - 27s 45ms/step - loss: 0.1943 - accuracy: 0.9384 - val_loss: 0.1893 - val_accuracy: 0.9402\n"
          ],
          "name": "stdout"
        },
        {
          "output_type": "execute_result",
          "data": {
            "text/plain": [
              "<tensorflow.python.keras.callbacks.History at 0x7f8700765790>"
            ]
          },
          "metadata": {
            "tags": []
          },
          "execution_count": 58
        }
      ]
    },
    {
      "cell_type": "code",
      "metadata": {
        "colab": {
          "base_uri": "https://localhost:8080/",
          "height": 621
        },
        "id": "SOK0eaOhuIvL",
        "outputId": "ff36a9c5-dc65-4b17-f59c-230a343aeafb"
      },
      "source": [
        "_ = plt.figure(figsize=(15.0, 10.0))\n",
        "plt.plot(model_concat.history.history['val_accuracy'], \"g-D\")\n",
        "plt.plot(model_avg.history.history['val_accuracy'], \"y-D\")\n",
        "plt.plot(model_sum.history.history['val_accuracy'], \"r-D\")\n",
        "plt.title('Models accuracy')\n",
        "plt.ylabel('Accuracy')\n",
        "plt.xlabel('Epoch')\n",
        "plt.grid()\n",
        "plt.legend(['concat', 'avg', 'sum'], loc='upper left')\n",
        "plt.show()"
      ],
      "execution_count": 59,
      "outputs": [
        {
          "output_type": "display_data",
          "data": {
            "image/png": "[encoded data removed]",
            "text/plain": [
              "<Figure size 1080x720 with 1 Axes>"
            ]
          },
          "metadata": {
            "tags": [],
            "needs_background": "light"
          }
        }
      ]
    },
    {
      "cell_type": "code",
      "metadata": {
        "colab": {
          "base_uri": "https://localhost:8080/"
        },
        "id": "C3Y9F7sWvcBl",
        "outputId": "2a9e3bd1-2d60-4a62-9769-cc6390c07a3b"
      },
      "source": [
        "preds_concat = model_concat.predict(X_valid).reshape(-1)\n",
        "preds_avg = model_avg.predict(X_valid).reshape(-1)\n",
        "preds_sum = model_sum.predict(X_valid).reshape(-1)\n",
        "print(\"===========  Concat ===========\")\n",
        "print(classification_report(y_valid, (preds_concat > 0.5).astype(int)))\n",
        "print(\"=========== Average ===========\")\n",
        "print(classification_report(y_valid, (preds_avg > 0.5).astype(int)))\n",
        "print(\"===========   Sum   ===========\")\n",
        "print(classification_report(y_valid, (preds_sum > 0.5).astype(int)))"
      ],
      "execution_count": 62,
      "outputs": [
        {
          "output_type": "stream",
          "text": [
            "===========  Concat ===========\n",
            "              precision    recall  f1-score   support\n",
            "\n",
            "           0       0.94      1.00      0.97     61365\n",
            "           1       0.54      0.06      0.11      3942\n",
            "\n",
            "    accuracy                           0.94     65307\n",
            "   macro avg       0.74      0.53      0.54     65307\n",
            "weighted avg       0.92      0.94      0.92     65307\n",
            "\n",
            "=========== Average ===========\n",
            "              precision    recall  f1-score   support\n",
            "\n",
            "           0       0.94      1.00      0.97     61365\n",
            "           1       0.54      0.04      0.08      3942\n",
            "\n",
            "    accuracy                           0.94     65307\n",
            "   macro avg       0.74      0.52      0.52     65307\n",
            "weighted avg       0.92      0.94      0.92     65307\n",
            "\n",
            "===========   Sum   ===========\n",
            "              precision    recall  f1-score   support\n",
            "\n",
            "           0       0.94      1.00      0.97     61365\n",
            "           1       0.54      0.06      0.12      3942\n",
            "\n",
            "    accuracy                           0.94     65307\n",
            "   macro avg       0.74      0.53      0.54     65307\n",
            "weighted avg       0.92      0.94      0.92     65307\n",
            "\n"
          ],
          "name": "stdout"
        }
      ]
    },
    {
      "cell_type": "markdown",
      "metadata": {
        "id": "wF18Xgl5wP-Q"
      },
      "source": [
        " Наверное значимых различий нет, но принцип такой же как и без предобученных эмбеддингов - sum чуть лучше concat и сильно лучше чем average"
      ]
    }
  ]
}