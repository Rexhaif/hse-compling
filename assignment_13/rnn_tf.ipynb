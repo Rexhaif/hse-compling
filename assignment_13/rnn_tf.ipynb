{
  "nbformat": 4,
  "nbformat_minor": 0,
  "metadata": {
    "kernelspec": {
      "display_name": "Python 3",
      "language": "python",
      "name": "python3"
    },
    "language_info": {
      "codemirror_mode": {
        "name": "ipython",
        "version": 3
      },
      "file_extension": ".py",
      "mimetype": "text/x-python",
      "name": "python",
      "nbconvert_exporter": "python",
      "pygments_lexer": "ipython3",
      "version": "3.8.5"
    },
    "colab": {
      "name": "rnn_tf.ipynb",
      "provenance": []
    },
    "accelerator": "GPU"
  },
  "cells": [
    {
      "cell_type": "code",
      "metadata": {
        "colab": {
          "base_uri": "https://localhost:8080/"
        },
        "id": "d9ENrVrF6kgS",
        "outputId": "37c31223-d5f1-48b4-8099-38c36dbdbfec"
      },
      "source": [
        "!unzip data.zip"
      ],
      "execution_count": 2,
      "outputs": [
        {
          "output_type": "stream",
          "text": [
            "Archive:  data.zip\n",
            "  inflating: lenta_sample.csv        \n",
            "  inflating: __MACOSX/._lenta_sample.csv  \n"
          ],
          "name": "stdout"
        }
      ]
    },
    {
      "cell_type": "code",
      "metadata": {
        "id": "A_PTKloG6kgW"
      },
      "source": [
        "import pandas as pd\n",
        "import numpy as np\n",
        "from string import punctuation\n",
        "from sklearn.model_selection import train_test_split\n",
        "from collections import Counter\n",
        "import matplotlib.pyplot as plt\n",
        "import tensorflow as tf\n",
        "%matplotlib inline"
      ],
      "execution_count": 3,
      "outputs": []
    },
    {
      "cell_type": "code",
      "metadata": {
        "id": "3dojFpuL6kgW"
      },
      "source": [
        "data = pd.read_csv('lenta_sample.csv')"
      ],
      "execution_count": 4,
      "outputs": []
    },
    {
      "cell_type": "code",
      "metadata": {
        "id": "m2OxoPe_6kgX"
      },
      "source": [
        "def preprocess(text):\n",
        "    tokens = text.lower().split()\n",
        "    tokens = [token.strip(punctuation) for token in tokens]\n",
        "    return tokens"
      ],
      "execution_count": 5,
      "outputs": []
    },
    {
      "cell_type": "code",
      "metadata": {
        "id": "foikFF_L6kgY"
      },
      "source": [
        "from tensorflow.keras import backend as K\n",
        "def f1(y_true, y_pred):\n",
        "    def recall(y_true, y_pred):\n",
        "        \"\"\"Recall metric.\n",
        "\n",
        "        Only computes a batch-wise average of recall.\n",
        "\n",
        "        Computes the recall, a metric for multi-label classification of\n",
        "        how many relevant items are selected.\n",
        "        \"\"\"\n",
        "        true_positives = K.sum(K.round(K.clip(y_true * y_pred, 0, 1)))\n",
        "        possible_positives = K.sum(K.round(K.clip(y_true, 0, 1)))\n",
        "        recall = true_positives / (possible_positives + K.epsilon())\n",
        "        return recall\n",
        "\n",
        "    def precision(y_true, y_pred):\n",
        "        \"\"\"Precision metric.\n",
        "\n",
        "        Only computes a batch-wise average of precision.\n",
        "\n",
        "        Computes the precision, a metric for multi-label classification of\n",
        "        how many selected items are relevant.\n",
        "        \"\"\"\n",
        "        true_positives = K.sum(K.round(K.clip(y_true * y_pred, 0, 1)))\n",
        "        predicted_positives = K.sum(K.round(K.clip(y_pred, 0, 1)))\n",
        "        precision = true_positives / (predicted_positives + K.epsilon())\n",
        "        return precision\n",
        "    precision = precision(y_true, y_pred)\n",
        "    recall = recall(y_true, y_pred)\n",
        "    return 2*((precision*recall)/(precision+recall+K.epsilon()))"
      ],
      "execution_count": 6,
      "outputs": []
    },
    {
      "cell_type": "code",
      "metadata": {
        "id": "drYHkMMY6kgZ"
      },
      "source": [
        "# словарь\n",
        "vocab = Counter()\n",
        "\n",
        "for text in data.text:\n",
        "    vocab.update(preprocess(text))"
      ],
      "execution_count": 7,
      "outputs": []
    },
    {
      "cell_type": "code",
      "metadata": {
        "id": "M-egq1xj6kga"
      },
      "source": [
        "# отфильтрованный словарь\n",
        "filtered_vocab = set()\n",
        "\n",
        "for word in vocab:\n",
        "    if vocab[word] > 30:\n",
        "        filtered_vocab.add(word)"
      ],
      "execution_count": 8,
      "outputs": []
    },
    {
      "cell_type": "code",
      "metadata": {
        "id": "1j3azqyB6kgb"
      },
      "source": [
        "# индексируем слова\n",
        "word2id = {'PAD':0}\n",
        "\n",
        "for word in filtered_vocab:\n",
        "    word2id[word] = len(word2id)"
      ],
      "execution_count": 9,
      "outputs": []
    },
    {
      "cell_type": "code",
      "metadata": {
        "id": "E1qYLMUp6kgb"
      },
      "source": [
        "id2word = {i:word for word, i in word2id.items()}"
      ],
      "execution_count": 10,
      "outputs": []
    },
    {
      "cell_type": "code",
      "metadata": {
        "id": "w6ofcJSB6kgc"
      },
      "source": [
        "# переводим тексты в последовательности индексов\n",
        "X = []\n",
        "\n",
        "for text in data.text:\n",
        "    tokens = preprocess(text)\n",
        "    ids = [word2id.get(token, 1) for token in tokens]\n",
        "    X.append(ids)"
      ],
      "execution_count": 13,
      "outputs": []
    },
    {
      "cell_type": "code",
      "metadata": {
        "id": "zoJn_M3o6kgc"
      },
      "source": [
        "MAX_LEN = max(len(x) for x in X)"
      ],
      "execution_count": 14,
      "outputs": []
    },
    {
      "cell_type": "code",
      "metadata": {
        "colab": {
          "base_uri": "https://localhost:8080/"
        },
        "id": "QdI5X4uw9YVS",
        "outputId": "74a7a77e-6d23-4056-da28-5b5a4a94ba11"
      },
      "source": [
        "print(f\"Max len: {MAX_LEN}\")"
      ],
      "execution_count": 16,
      "outputs": [
        {
          "output_type": "stream",
          "text": [
            "Max len: 3578\n"
          ],
          "name": "stdout"
        }
      ]
    },
    {
      "cell_type": "markdown",
      "metadata": {
        "id": "UiJ4m8Xw6kgd"
      },
      "source": [
        "Можно посчитать среднюю или медианную длину, если максимальная кажется слишком большой."
      ]
    },
    {
      "cell_type": "code",
      "metadata": {
        "id": "u0evJww46kgd"
      },
      "source": [
        "MEAN_LEN = np.median([len(x) for x in X])"
      ],
      "execution_count": 17,
      "outputs": []
    },
    {
      "cell_type": "code",
      "metadata": {
        "colab": {
          "base_uri": "https://localhost:8080/"
        },
        "id": "PxWWJHmd6kge",
        "outputId": "b668663c-5855-4fcb-df1a-ee7ff6fd44b1"
      },
      "source": [
        "MAX_LEN, MEAN_LEN"
      ],
      "execution_count": 18,
      "outputs": [
        {
          "output_type": "execute_result",
          "data": {
            "text/plain": [
              "(3578, 170.0)"
            ]
          },
          "metadata": {
            "tags": []
          },
          "execution_count": 18
        }
      ]
    },
    {
      "cell_type": "code",
      "metadata": {
        "id": "s6mvAqCz6kge"
      },
      "source": [
        "MAX_LEN = int(MEAN_LEN + 30)"
      ],
      "execution_count": 19,
      "outputs": []
    },
    {
      "cell_type": "code",
      "metadata": {
        "id": "IRcCbP0b6kge"
      },
      "source": [
        "# паддинг\n",
        "X = tf.keras.preprocessing.sequence.pad_sequences(X, maxlen=MAX_LEN)"
      ],
      "execution_count": 20,
      "outputs": []
    },
    {
      "cell_type": "code",
      "metadata": {
        "colab": {
          "base_uri": "https://localhost:8080/"
        },
        "id": "d3Gst18d6kge",
        "outputId": "bb6cdefc-c395-48e8-e40b-d20ab084a318"
      },
      "source": [
        "X.shape"
      ],
      "execution_count": 21,
      "outputs": [
        {
          "output_type": "execute_result",
          "data": {
            "text/plain": [
              "(147852, 200)"
            ]
          },
          "metadata": {
            "tags": []
          },
          "execution_count": 21
        }
      ]
    },
    {
      "cell_type": "code",
      "metadata": {
        "id": "nZXHAuFa6kgf"
      },
      "source": [
        "id2label = {i:label for i, label in enumerate(set(data.topic.values))}\n",
        "label2id = {l:i for i, l in id2label.items()}"
      ],
      "execution_count": 22,
      "outputs": []
    },
    {
      "cell_type": "code",
      "metadata": {
        "id": "Am2Uoah76kgf"
      },
      "source": [
        "y = tf.keras.utils.to_categorical([label2id[label] for label in data.topic.values])"
      ],
      "execution_count": 23,
      "outputs": []
    },
    {
      "cell_type": "markdown",
      "metadata": {
        "id": "chiT_-ol6kgg"
      },
      "source": [
        "В этот раз добавим стратификацию, т.к. в данных у нас дисбаланс классов."
      ]
    },
    {
      "cell_type": "code",
      "metadata": {
        "id": "kudzr6mi6kgg"
      },
      "source": [
        "X_train, X_valid, y_train, y_valid = train_test_split(X, y, test_size=0.05, random_state=42)"
      ],
      "execution_count": 25,
      "outputs": []
    },
    {
      "cell_type": "markdown",
      "metadata": {
        "id": "nKTL3jeJ6kgg"
      },
      "source": [
        "---\n",
        "# Homework starts here\n",
        "---"
      ]
    },
    {
      "cell_type": "code",
      "metadata": {
        "id": "vACbFoFc6kgh"
      },
      "source": [
        "inputs = tf.keras.layers.Input(shape=(MAX_LEN,))\n",
        "embeddings = tf.keras.layers.Embedding(input_dim=len(word2id), output_dim=30)(inputs,)\n",
        "\n",
        "\n",
        "cnn_1 = tf.keras.layers.Conv1D(\n",
        "    filters=256, kernel_size=5,\n",
        "    padding='same', activation='swish',\n",
        ")(embeddings)\n",
        "\n",
        "pool_1 = tf.keras.layers.AveragePooling1D(\n",
        "    pool_size=2\n",
        ")(cnn_1)\n",
        "\n",
        "cnn_2 = tf.keras.layers.Conv1D(\n",
        "    filters=128, kernel_size=15,\n",
        "    padding='same', activation='swish',\n",
        ")(pool_1)\n",
        "\n",
        "pool_2 = tf.keras.layers.AveragePooling1D(\n",
        "    pool_size=4\n",
        ")(cnn_2)\n",
        "\n",
        "drop = tf.keras.layers.Dropout(rate=0.2, seed=42)(pool_2)\n",
        "\n",
        "gru_forward =  tf.keras.layers.GRU(\n",
        "    128, return_sequences=False\n",
        ")(drop)\n",
        "lstm_backward =  tf.keras.layers.LSTM(\n",
        "    128, return_sequences=False,\n",
        "    go_backwards=True\n",
        ")(drop)\n",
        "\n",
        "hidden = tf.keras.layers.concatenate([gru_forward, lstm_backward])\n",
        "\n",
        "outputs = tf.keras.layers.Dense(len(label2id), activation='softmax')(hidden)\n",
        "\n",
        "model = tf.keras.Model(inputs=inputs, outputs=outputs)\n",
        "\n",
        "model.compile(\n",
        "    optimizer='adam',\n",
        "    loss='categorical_crossentropy',\n",
        "    metrics=[f1, tf.keras.metrics.RecallAtPrecision(0.8, name='rec@prec')]\n",
        ")"
      ],
      "execution_count": 43,
      "outputs": []
    },
    {
      "cell_type": "code",
      "metadata": {
        "colab": {
          "base_uri": "https://localhost:8080/"
        },
        "id": "ppXb5GwU6kgi",
        "outputId": "27bbc787-55d5-4925-d434-8a3ab7207984"
      },
      "source": [
        "model.summary()"
      ],
      "execution_count": 44,
      "outputs": [
        {
          "output_type": "stream",
          "text": [
            "Model: \"model_4\"\n",
            "__________________________________________________________________________________________________\n",
            "Layer (type)                    Output Shape         Param #     Connected to                     \n",
            "==================================================================================================\n",
            "input_5 (InputLayer)            [(None, 200)]        0                                            \n",
            "__________________________________________________________________________________________________\n",
            "embedding_4 (Embedding)         (None, 200, 30)      1658820     input_5[0][0]                    \n",
            "__________________________________________________________________________________________________\n",
            "conv1d_6 (Conv1D)               (None, 200, 256)     38656       embedding_4[0][0]                \n",
            "__________________________________________________________________________________________________\n",
            "average_pooling1d_8 (AveragePoo (None, 100, 256)     0           conv1d_6[0][0]                   \n",
            "__________________________________________________________________________________________________\n",
            "conv1d_7 (Conv1D)               (None, 100, 128)     491648      average_pooling1d_8[0][0]        \n",
            "__________________________________________________________________________________________________\n",
            "average_pooling1d_9 (AveragePoo (None, 25, 128)      0           conv1d_7[0][0]                   \n",
            "__________________________________________________________________________________________________\n",
            "dropout_4 (Dropout)             (None, 25, 128)      0           average_pooling1d_9[0][0]        \n",
            "__________________________________________________________________________________________________\n",
            "gru_4 (GRU)                     (None, 128)          99072       dropout_4[0][0]                  \n",
            "__________________________________________________________________________________________________\n",
            "lstm_4 (LSTM)                   (None, 128)          131584      dropout_4[0][0]                  \n",
            "__________________________________________________________________________________________________\n",
            "concatenate_4 (Concatenate)     (None, 256)          0           gru_4[0][0]                      \n",
            "                                                                 lstm_4[0][0]                     \n",
            "__________________________________________________________________________________________________\n",
            "dense_4 (Dense)                 (None, 19)           4883        concatenate_4[0][0]              \n",
            "==================================================================================================\n",
            "Total params: 2,424,663\n",
            "Trainable params: 2,424,663\n",
            "Non-trainable params: 0\n",
            "__________________________________________________________________________________________________\n"
          ],
          "name": "stdout"
        }
      ]
    },
    {
      "cell_type": "code",
      "metadata": {
        "id": "jlE8FB30EI33"
      },
      "source": [
        "# EarlyStopping позволяет автоматически остановить обучение, если качество не улучшается \n",
        "early_stop = tf.keras.callbacks.EarlyStopping(\n",
        "    monitor='val_f1', \n",
        "    min_delta=0.01, # какая разница считается как улучшение\n",
        "    patience=3, # сколько эпох терпеть отсутствие улучшений\n",
        "    verbose=1, \n",
        "    mode='max',\n",
        ")"
      ],
      "execution_count": 45,
      "outputs": []
    },
    {
      "cell_type": "code",
      "metadata": {
        "scrolled": true,
        "colab": {
          "base_uri": "https://localhost:8080/"
        },
        "id": "8UwF10dH6kgj",
        "outputId": "ea9cdf73-1d38-478b-f0be-83122b5ad55a"
      },
      "source": [
        "model.fit(\n",
        "    X_train, y_train, \n",
        "    validation_data=(X_valid, y_valid),\n",
        "    batch_size=2000,\n",
        "    epochs=20\n",
        ")"
      ],
      "execution_count": 46,
      "outputs": [
        {
          "output_type": "stream",
          "text": [
            "Epoch 1/20\n",
            "71/71 [==============================] - 37s 475ms/step - loss: 2.0980 - f1: 0.0480 - rec@prec: 0.0202 - val_loss: 1.6659 - val_f1: 0.1646 - val_rec@prec: 0.0855\n",
            "Epoch 2/20\n",
            "71/71 [==============================] - 33s 460ms/step - loss: 1.3127 - f1: 0.4496 - rec@prec: 0.3420 - val_loss: 1.0054 - val_f1: 0.6881 - val_rec@prec: 0.6064\n",
            "Epoch 3/20\n",
            "71/71 [==============================] - 33s 463ms/step - loss: 0.7788 - f1: 0.7643 - rec@prec: 0.7446 - val_loss: 0.8597 - val_f1: 0.7393 - val_rec@prec: 0.6925\n",
            "Epoch 4/20\n",
            "71/71 [==============================] - 33s 466ms/step - loss: 0.5733 - f1: 0.8281 - rec@prec: 0.8491 - val_loss: 0.8576 - val_f1: 0.7490 - val_rec@prec: 0.7065\n",
            "Epoch 5/20\n",
            "71/71 [==============================] - 33s 469ms/step - loss: 0.4359 - f1: 0.8700 - rec@prec: 0.9102 - val_loss: 0.9041 - val_f1: 0.7462 - val_rec@prec: 0.6996\n",
            "Epoch 6/20\n",
            "71/71 [==============================] - 33s 468ms/step - loss: 0.3295 - f1: 0.9035 - rec@prec: 0.9492 - val_loss: 0.9602 - val_f1: 0.7544 - val_rec@prec: 0.7099\n",
            "Epoch 7/20\n",
            "71/71 [==============================] - 33s 469ms/step - loss: 0.2527 - f1: 0.9275 - rec@prec: 0.9691 - val_loss: 1.0671 - val_f1: 0.7446 - val_rec@prec: 0.6932\n",
            "Epoch 8/20\n",
            "71/71 [==============================] - 33s 470ms/step - loss: 0.1935 - f1: 0.9459 - rec@prec: 0.9814 - val_loss: 1.1690 - val_f1: 0.7441 - val_rec@prec: 0.6886\n",
            "Epoch 9/20\n",
            "71/71 [==============================] - 33s 468ms/step - loss: 0.1522 - f1: 0.9583 - rec@prec: 0.9879 - val_loss: 1.2755 - val_f1: 0.7396 - val_rec@prec: 0.6774\n",
            "Epoch 10/20\n",
            "71/71 [==============================] - 33s 469ms/step - loss: 0.1271 - f1: 0.9647 - rec@prec: 0.9912 - val_loss: 1.3560 - val_f1: 0.7349 - val_rec@prec: 0.6777\n",
            "Epoch 11/20\n",
            "71/71 [==============================] - 33s 471ms/step - loss: 0.1095 - f1: 0.9693 - rec@prec: 0.9937 - val_loss: 1.4637 - val_f1: 0.7298 - val_rec@prec: 0.6674\n",
            "Epoch 12/20\n",
            "71/71 [==============================] - 33s 470ms/step - loss: 0.0884 - f1: 0.9760 - rec@prec: 0.9954 - val_loss: 1.5477 - val_f1: 0.7317 - val_rec@prec: 0.6610\n",
            "Epoch 13/20\n",
            "71/71 [==============================] - 33s 470ms/step - loss: 0.0750 - f1: 0.9800 - rec@prec: 0.9967 - val_loss: 1.6338 - val_f1: 0.7290 - val_rec@prec: 0.6582\n",
            "Epoch 14/20\n",
            "71/71 [==============================] - 33s 470ms/step - loss: 0.0630 - f1: 0.9835 - rec@prec: 0.9974 - val_loss: 1.6821 - val_f1: 0.7308 - val_rec@prec: 0.6651\n",
            "Epoch 15/20\n",
            "71/71 [==============================] - 33s 470ms/step - loss: 0.0541 - f1: 0.9857 - rec@prec: 0.9981 - val_loss: 1.7646 - val_f1: 0.7246 - val_rec@prec: 0.6543\n",
            "Epoch 16/20\n",
            "71/71 [==============================] - 33s 472ms/step - loss: 0.0490 - f1: 0.9869 - rec@prec: 0.9983 - val_loss: 1.8118 - val_f1: 0.7294 - val_rec@prec: 0.6589\n",
            "Epoch 17/20\n",
            "71/71 [==============================] - 33s 469ms/step - loss: 0.0450 - f1: 0.9876 - rec@prec: 0.9989 - val_loss: 1.8411 - val_f1: 0.7306 - val_rec@prec: 0.6572\n",
            "Epoch 18/20\n",
            "71/71 [==============================] - 33s 469ms/step - loss: 0.0396 - f1: 0.9893 - rec@prec: 0.9989 - val_loss: 1.9077 - val_f1: 0.7297 - val_rec@prec: 0.6579\n",
            "Epoch 19/20\n",
            "71/71 [==============================] - 33s 471ms/step - loss: 0.0400 - f1: 0.9888 - rec@prec: 0.9990 - val_loss: 1.9315 - val_f1: 0.7287 - val_rec@prec: 0.6616\n",
            "Epoch 20/20\n",
            "71/71 [==============================] - 33s 470ms/step - loss: 0.0372 - f1: 0.9894 - rec@prec: 0.9991 - val_loss: 1.9659 - val_f1: 0.7327 - val_rec@prec: 0.6576\n"
          ],
          "name": "stdout"
        },
        {
          "output_type": "execute_result",
          "data": {
            "text/plain": [
              "<tensorflow.python.keras.callbacks.History at 0x7ff490862ad0>"
            ]
          },
          "metadata": {
            "tags": []
          },
          "execution_count": 46
        }
      ]
    },
    {
      "cell_type": "code",
      "metadata": {
        "colab": {
          "base_uri": "https://localhost:8080/",
          "height": 295
        },
        "id": "TG_FRw5q6kgl",
        "outputId": "e5612e8b-b798-4893-afdb-e5e93c361b54"
      },
      "source": [
        "plt.plot(model.history.history['f1'], \"b-D\")\n",
        "plt.plot(model.history.history['val_f1'], \"y-D\")\n",
        "plt.grid()\n",
        "plt.title('Model F1')\n",
        "plt.ylabel('F1')\n",
        "plt.xlabel('Epoch')\n",
        "plt.legend(['train', 'val'], loc='upper left')\n",
        "plt.show()"
      ],
      "execution_count": 47,
      "outputs": [
        {
          "output_type": "display_data",
          "data": {
            "image/png": "[encoded data removed]",
            "text/plain": [
              "<Figure size 432x288 with 1 Axes>"
            ]
          },
          "metadata": {
            "tags": [],
            "needs_background": "light"
          }
        }
      ]
    }
  ]
}